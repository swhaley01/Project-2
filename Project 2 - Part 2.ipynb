{
 "cells": [
  {
   "cell_type": "markdown",
   "id": "6c581462-a6a1-4956-af8c-c7677e32ddd2",
   "metadata": {},
   "source": [
    "# Part 2\n",
    "For part 2 of the project, you will be engineering a MySQL database for your IMDB movie data. You will examine the data to determine the correct SQL data type and size for each column. You will then construct the ERD and forward engineer the database. Finally, you will insert your IMDB data into your database from a jupyter notebook.\n",
    "\n",
    "## Specifications - Database\n",
    "Your stakeholder wants you to take your data from Part 1 of the project and to create a MySQL database with the requested columns/features.\n",
    "Specifically, they would like the following tables and columns included in your database:\n",
    "\n",
    "A \"title_basics\" table, which contains:\n",
    "- tconst (as the primary key)\n",
    "- primary_title\n",
    "- start_year\n",
    "- runtime\n",
    "\n",
    "A \"ratings\" table, which contains::\n",
    "- tconst (as the primary key)\n",
    "- average_rating\n",
    "- number_of_votes\n",
    "\n",
    "They want the Genres from title basics included in the database, but they want the tables normalized. You will learn how to process and normalize the genres next week. For now, you will include the tables in your database, but will not insert any data until Part 3.\n",
    "\n",
    "A \"genres\" table, which includes:\n",
    "- genre_id (New): a numeric ID for each genre (primary key)\n",
    "- genre_name (New): the full name of each genre\n",
    "\n",
    "A \"title_genres\" table (or \"title_has_genres\" table), which includes:\n",
    "- tconst\n",
    "- genre_id\n",
    "\n",
    "Hint: let MySQL's ERD editor help you create this table."
   ]
  },
  {
   "cell_type": "code",
   "execution_count": 1,
   "id": "3c95c536-4cc3-4e5a-961e-e77d118fc7ff",
   "metadata": {},
   "outputs": [],
   "source": [
    "import pandas as pd\n",
    "import json, os"
   ]
  },
  {
   "cell_type": "code",
   "execution_count": 2,
   "id": "2a909d91-8f84-4da9-b7d0-c0053e099a91",
   "metadata": {},
   "outputs": [
    {
     "data": {
      "text/plain": [
       "['title-ratings.csv',\n",
       " 'title.basics.tsv.gz',\n",
       " 'title.ratings.tsv.gz',\n",
       " 'title-akas-us-only.csv',\n",
       " '.ipynb_checkpoints',\n",
       " 'title-basics.csv']"
      ]
     },
     "execution_count": 2,
     "metadata": {},
     "output_type": "execute_result"
    }
   ],
   "source": [
    "os.listdir(\"Data/\")"
   ]
  },
  {
   "cell_type": "code",
   "execution_count": 12,
   "id": "661b173f-1ff8-4aa4-9693-9a222d452394",
   "metadata": {},
   "outputs": [
    {
     "name": "stdout",
     "output_type": "stream",
     "text": [
      "<class 'pandas.core.frame.DataFrame'>\n",
      "RangeIndex: 86979 entries, 0 to 86978\n",
      "Data columns (total 9 columns):\n",
      " #   Column          Non-Null Count  Dtype  \n",
      "---  ------          --------------  -----  \n",
      " 0   tconst          86979 non-null  object \n",
      " 1   titleType       86979 non-null  object \n",
      " 2   primaryTitle    86979 non-null  object \n",
      " 3   originalTitle   86979 non-null  object \n",
      " 4   isAdult         86979 non-null  int64  \n",
      " 5   startYear       86979 non-null  float64\n",
      " 6   endYear         0 non-null      float64\n",
      " 7   runtimeMinutes  86979 non-null  int64  \n",
      " 8   genres          86979 non-null  object \n",
      "dtypes: float64(2), int64(2), object(5)\n",
      "memory usage: 6.0+ MB\n"
     ]
    },
    {
     "data": {
      "text/html": [
       "<div>\n",
       "<style scoped>\n",
       "    .dataframe tbody tr th:only-of-type {\n",
       "        vertical-align: middle;\n",
       "    }\n",
       "\n",
       "    .dataframe tbody tr th {\n",
       "        vertical-align: top;\n",
       "    }\n",
       "\n",
       "    .dataframe thead th {\n",
       "        text-align: right;\n",
       "    }\n",
       "</style>\n",
       "<table border=\"1\" class=\"dataframe\">\n",
       "  <thead>\n",
       "    <tr style=\"text-align: right;\">\n",
       "      <th></th>\n",
       "      <th>tconst</th>\n",
       "      <th>titleType</th>\n",
       "      <th>primaryTitle</th>\n",
       "      <th>originalTitle</th>\n",
       "      <th>isAdult</th>\n",
       "      <th>startYear</th>\n",
       "      <th>endYear</th>\n",
       "      <th>runtimeMinutes</th>\n",
       "      <th>genres</th>\n",
       "    </tr>\n",
       "  </thead>\n",
       "  <tbody>\n",
       "    <tr>\n",
       "      <th>0</th>\n",
       "      <td>tt0035423</td>\n",
       "      <td>movie</td>\n",
       "      <td>Kate &amp; Leopold</td>\n",
       "      <td>Kate &amp; Leopold</td>\n",
       "      <td>0</td>\n",
       "      <td>2001.0</td>\n",
       "      <td>NaN</td>\n",
       "      <td>118</td>\n",
       "      <td>Comedy,Fantasy,Romance</td>\n",
       "    </tr>\n",
       "    <tr>\n",
       "      <th>1</th>\n",
       "      <td>tt0062336</td>\n",
       "      <td>movie</td>\n",
       "      <td>The Tango of the Widower and Its Distorting Mi...</td>\n",
       "      <td>El tango del viudo y su espejo deformante</td>\n",
       "      <td>0</td>\n",
       "      <td>2020.0</td>\n",
       "      <td>NaN</td>\n",
       "      <td>70</td>\n",
       "      <td>Drama</td>\n",
       "    </tr>\n",
       "    <tr>\n",
       "      <th>2</th>\n",
       "      <td>tt0069049</td>\n",
       "      <td>movie</td>\n",
       "      <td>The Other Side of the Wind</td>\n",
       "      <td>The Other Side of the Wind</td>\n",
       "      <td>0</td>\n",
       "      <td>2018.0</td>\n",
       "      <td>NaN</td>\n",
       "      <td>122</td>\n",
       "      <td>Drama</td>\n",
       "    </tr>\n",
       "    <tr>\n",
       "      <th>3</th>\n",
       "      <td>tt0088751</td>\n",
       "      <td>movie</td>\n",
       "      <td>The Naked Monster</td>\n",
       "      <td>The Naked Monster</td>\n",
       "      <td>0</td>\n",
       "      <td>2005.0</td>\n",
       "      <td>NaN</td>\n",
       "      <td>100</td>\n",
       "      <td>Comedy,Horror,Sci-Fi</td>\n",
       "    </tr>\n",
       "    <tr>\n",
       "      <th>4</th>\n",
       "      <td>tt0096056</td>\n",
       "      <td>movie</td>\n",
       "      <td>Crime and Punishment</td>\n",
       "      <td>Crime and Punishment</td>\n",
       "      <td>0</td>\n",
       "      <td>2002.0</td>\n",
       "      <td>NaN</td>\n",
       "      <td>126</td>\n",
       "      <td>Drama</td>\n",
       "    </tr>\n",
       "  </tbody>\n",
       "</table>\n",
       "</div>"
      ],
      "text/plain": [
       "      tconst titleType                                       primaryTitle  \\\n",
       "0  tt0035423     movie                                     Kate & Leopold   \n",
       "1  tt0062336     movie  The Tango of the Widower and Its Distorting Mi...   \n",
       "2  tt0069049     movie                         The Other Side of the Wind   \n",
       "3  tt0088751     movie                                  The Naked Monster   \n",
       "4  tt0096056     movie                               Crime and Punishment   \n",
       "\n",
       "                               originalTitle  isAdult  startYear  endYear  \\\n",
       "0                             Kate & Leopold        0     2001.0      NaN   \n",
       "1  El tango del viudo y su espejo deformante        0     2020.0      NaN   \n",
       "2                 The Other Side of the Wind        0     2018.0      NaN   \n",
       "3                          The Naked Monster        0     2005.0      NaN   \n",
       "4                       Crime and Punishment        0     2002.0      NaN   \n",
       "\n",
       "   runtimeMinutes                  genres  \n",
       "0             118  Comedy,Fantasy,Romance  \n",
       "1              70                   Drama  \n",
       "2             122                   Drama  \n",
       "3             100    Comedy,Horror,Sci-Fi  \n",
       "4             126                   Drama  "
      ]
     },
     "execution_count": 12,
     "metadata": {},
     "output_type": "execute_result"
    }
   ],
   "source": [
    "# Load in data for basics\n",
    "basics = pd.read_csv('Data/title-basics.csv')\n",
    "basics.info()\n",
    "basics.head()"
   ]
  },
  {
   "cell_type": "code",
   "execution_count": 13,
   "id": "a6d9b04a-d65e-488e-8b66-14cbc478c38c",
   "metadata": {},
   "outputs": [
    {
     "name": "stdout",
     "output_type": "stream",
     "text": [
      "<class 'pandas.core.frame.DataFrame'>\n",
      "RangeIndex: 71900 entries, 0 to 71899\n",
      "Data columns (total 3 columns):\n",
      " #   Column         Non-Null Count  Dtype  \n",
      "---  ------         --------------  -----  \n",
      " 0   tconst         71900 non-null  object \n",
      " 1   averageRating  71900 non-null  float64\n",
      " 2   numVotes       71900 non-null  int64  \n",
      "dtypes: float64(1), int64(1), object(1)\n",
      "memory usage: 1.6+ MB\n"
     ]
    },
    {
     "data": {
      "text/html": [
       "<div>\n",
       "<style scoped>\n",
       "    .dataframe tbody tr th:only-of-type {\n",
       "        vertical-align: middle;\n",
       "    }\n",
       "\n",
       "    .dataframe tbody tr th {\n",
       "        vertical-align: top;\n",
       "    }\n",
       "\n",
       "    .dataframe thead th {\n",
       "        text-align: right;\n",
       "    }\n",
       "</style>\n",
       "<table border=\"1\" class=\"dataframe\">\n",
       "  <thead>\n",
       "    <tr style=\"text-align: right;\">\n",
       "      <th></th>\n",
       "      <th>tconst</th>\n",
       "      <th>averageRating</th>\n",
       "      <th>numVotes</th>\n",
       "    </tr>\n",
       "  </thead>\n",
       "  <tbody>\n",
       "    <tr>\n",
       "      <th>0</th>\n",
       "      <td>tt0035423</td>\n",
       "      <td>6.4</td>\n",
       "      <td>87153</td>\n",
       "    </tr>\n",
       "    <tr>\n",
       "      <th>1</th>\n",
       "      <td>tt0062336</td>\n",
       "      <td>6.4</td>\n",
       "      <td>175</td>\n",
       "    </tr>\n",
       "    <tr>\n",
       "      <th>2</th>\n",
       "      <td>tt0069049</td>\n",
       "      <td>6.7</td>\n",
       "      <td>7754</td>\n",
       "    </tr>\n",
       "    <tr>\n",
       "      <th>3</th>\n",
       "      <td>tt0088751</td>\n",
       "      <td>5.2</td>\n",
       "      <td>336</td>\n",
       "    </tr>\n",
       "    <tr>\n",
       "      <th>4</th>\n",
       "      <td>tt0096056</td>\n",
       "      <td>5.6</td>\n",
       "      <td>846</td>\n",
       "    </tr>\n",
       "  </tbody>\n",
       "</table>\n",
       "</div>"
      ],
      "text/plain": [
       "      tconst  averageRating  numVotes\n",
       "0  tt0035423            6.4     87153\n",
       "1  tt0062336            6.4       175\n",
       "2  tt0069049            6.7      7754\n",
       "3  tt0088751            5.2       336\n",
       "4  tt0096056            5.6       846"
      ]
     },
     "execution_count": 13,
     "metadata": {},
     "output_type": "execute_result"
    }
   ],
   "source": [
    "# Load in data for ratings\n",
    "ratings = pd.read_csv('Data/title-ratings.csv')\n",
    "ratings.info()\n",
    "ratings.head()"
   ]
  },
  {
   "cell_type": "code",
   "execution_count": 7,
   "id": "dcae358c-baae-45f9-a301-3b19add60f34",
   "metadata": {},
   "outputs": [],
   "source": [
    "def string_lengths(df):\n",
    "    print(\"\\nSTRING COLUMN MAX LENGTHS:\")\n",
    "    for col in df.select_dtypes('object').columns:\n",
    "        length =  df[col].fillna('').map(len).max()\n",
    "        print(f\"- {col}: {length}\")"
   ]
  },
  {
   "cell_type": "code",
   "execution_count": 9,
   "id": "6074863d-c842-4649-9c58-ae1abe8af311",
   "metadata": {},
   "outputs": [
    {
     "name": "stdout",
     "output_type": "stream",
     "text": [
      "\n",
      "STRING COLUMN MAX LENGTHS:\n",
      "- tconst: 10\n",
      "- titleType: 5\n",
      "- primaryTitle: 242\n",
      "- originalTitle: 242\n",
      "- genres: 29\n"
     ]
    }
   ],
   "source": [
    "# Show column lengths for basics df\n",
    "string_lengths(basics)"
   ]
  },
  {
   "cell_type": "code",
   "execution_count": 10,
   "id": "e113e696-5453-40b4-86db-af4e96f2b2cd",
   "metadata": {},
   "outputs": [
    {
     "name": "stdout",
     "output_type": "stream",
     "text": [
      "\n",
      "STRING COLUMN MAX LENGTHS:\n",
      "- tconst: 10\n"
     ]
    }
   ],
   "source": [
    "# Show column lengths for ratings df\n",
    "string_lengths(ratings)"
   ]
  },
  {
   "cell_type": "markdown",
   "id": "f1587fa2-5406-48e6-8dde-30acf3efaa26",
   "metadata": {},
   "source": [
    "## Design the Database Model/ERD"
   ]
  },
  {
   "cell_type": "code",
   "execution_count": null,
   "id": "4fde4f93-f973-4231-aa21-5c4f58da8455",
   "metadata": {},
   "outputs": [],
   "source": []
  },
  {
   "cell_type": "markdown",
   "id": "d8b0805a-a4bd-45c2-b9e2-84e3fb4175e0",
   "metadata": {},
   "source": [
    "## Create the Database with your CREATE SQL script"
   ]
  },
  {
   "cell_type": "code",
   "execution_count": null,
   "id": "a05147b4-ef79-45be-82d6-913371a817dc",
   "metadata": {},
   "outputs": [],
   "source": []
  },
  {
   "cell_type": "markdown",
   "id": "d2b2efde-57f5-4543-8db0-79885f9b0507",
   "metadata": {},
   "source": [
    "## Confirm the Database has been updated correctly"
   ]
  },
  {
   "cell_type": "code",
   "execution_count": null,
   "id": "e71a8270-1360-460e-887f-ceb2446bbc4f",
   "metadata": {},
   "outputs": [],
   "source": []
  }
 ],
 "metadata": {
  "kernelspec": {
   "display_name": "Python 3 (ipykernel)",
   "language": "python",
   "name": "python3"
  },
  "language_info": {
   "codemirror_mode": {
    "name": "ipython",
    "version": 3
   },
   "file_extension": ".py",
   "mimetype": "text/x-python",
   "name": "python",
   "nbconvert_exporter": "python",
   "pygments_lexer": "ipython3",
   "version": "3.10.10"
  },
  "widgets": {
   "application/vnd.jupyter.widget-state+json": {
    "state": {},
    "version_major": 2,
    "version_minor": 0
   }
  }
 },
 "nbformat": 4,
 "nbformat_minor": 5
}
