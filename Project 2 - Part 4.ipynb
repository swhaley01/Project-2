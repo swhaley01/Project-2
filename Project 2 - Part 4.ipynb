{
 "cells": [
  {
   "cell_type": "code",
   "execution_count": 1,
   "id": "bda63113",
   "metadata": {},
   "outputs": [],
   "source": [
    "import pandas as pd\n",
    "import numpy as np\n",
    "import seaborn as sns\n",
    "import matplotlib.pyplot as plt\n",
    "import json\n",
    "from scipy import stats\n",
    "import scipy\n",
    "from statsmodels.stats.multicomp import pairwise_tukeyhsd"
   ]
  },
  {
   "cell_type": "markdown",
   "id": "4059db1a",
   "metadata": {},
   "source": [
    "# Load Data"
   ]
  },
  {
   "cell_type": "code",
   "execution_count": 2,
   "id": "1ff66a9d",
   "metadata": {},
   "outputs": [],
   "source": [
    "basics = pd.read_csv('Data/title-basics.csv',low_memory = False)\n",
    "ratings = pd.read_csv('Data/title-ratings.csv', low_memory = False)\n",
    "year_2001 = pd.read_csv('Data/final_tmdb_data_2001.csv.gz', low_memory = False)\n",
    "year_2002 = pd.read_csv('Data/final_tmdb_data_2002.csv.gz', low_memory = False)"
   ]
  },
  {
   "cell_type": "code",
   "execution_count": 3,
   "id": "a30eaee7",
   "metadata": {},
   "outputs": [
    {
     "data": {
      "text/html": [
       "<div>\n",
       "<style scoped>\n",
       "    .dataframe tbody tr th:only-of-type {\n",
       "        vertical-align: middle;\n",
       "    }\n",
       "\n",
       "    .dataframe tbody tr th {\n",
       "        vertical-align: top;\n",
       "    }\n",
       "\n",
       "    .dataframe thead th {\n",
       "        text-align: right;\n",
       "    }\n",
       "</style>\n",
       "<table border=\"1\" class=\"dataframe\">\n",
       "  <thead>\n",
       "    <tr style=\"text-align: right;\">\n",
       "      <th></th>\n",
       "      <th>imdb_id</th>\n",
       "      <th>adult</th>\n",
       "      <th>backdrop_path</th>\n",
       "      <th>belongs_to_collection</th>\n",
       "      <th>budget</th>\n",
       "      <th>genres</th>\n",
       "      <th>homepage</th>\n",
       "      <th>id</th>\n",
       "      <th>original_language</th>\n",
       "      <th>original_title</th>\n",
       "      <th>...</th>\n",
       "      <th>revenue</th>\n",
       "      <th>runtime</th>\n",
       "      <th>spoken_languages</th>\n",
       "      <th>status</th>\n",
       "      <th>tagline</th>\n",
       "      <th>title</th>\n",
       "      <th>video</th>\n",
       "      <th>vote_average</th>\n",
       "      <th>vote_count</th>\n",
       "      <th>certification</th>\n",
       "    </tr>\n",
       "  </thead>\n",
       "  <tbody>\n",
       "    <tr>\n",
       "      <th>0</th>\n",
       "      <td>0</td>\n",
       "      <td>NaN</td>\n",
       "      <td>NaN</td>\n",
       "      <td>NaN</td>\n",
       "      <td>NaN</td>\n",
       "      <td>NaN</td>\n",
       "      <td>NaN</td>\n",
       "      <td>NaN</td>\n",
       "      <td>NaN</td>\n",
       "      <td>NaN</td>\n",
       "      <td>...</td>\n",
       "      <td>NaN</td>\n",
       "      <td>NaN</td>\n",
       "      <td>NaN</td>\n",
       "      <td>NaN</td>\n",
       "      <td>NaN</td>\n",
       "      <td>NaN</td>\n",
       "      <td>NaN</td>\n",
       "      <td>NaN</td>\n",
       "      <td>NaN</td>\n",
       "      <td>NaN</td>\n",
       "    </tr>\n",
       "    <tr>\n",
       "      <th>1</th>\n",
       "      <td>tt0035423</td>\n",
       "      <td>0.0</td>\n",
       "      <td>/hfeiSfWYujh6MKhtGTXyK3DD4nN.jpg</td>\n",
       "      <td>NaN</td>\n",
       "      <td>48000000.0</td>\n",
       "      <td>[{'id': 10749, 'name': 'Romance'}, {'id': 14, ...</td>\n",
       "      <td>NaN</td>\n",
       "      <td>11232.0</td>\n",
       "      <td>en</td>\n",
       "      <td>Kate &amp; Leopold</td>\n",
       "      <td>...</td>\n",
       "      <td>76019048.0</td>\n",
       "      <td>118.0</td>\n",
       "      <td>[{'english_name': 'French', 'iso_639_1': 'fr',...</td>\n",
       "      <td>Released</td>\n",
       "      <td>If they lived in the same century, they'd be p...</td>\n",
       "      <td>Kate &amp; Leopold</td>\n",
       "      <td>0.0</td>\n",
       "      <td>6.331</td>\n",
       "      <td>1226.0</td>\n",
       "      <td>PG-13</td>\n",
       "    </tr>\n",
       "    <tr>\n",
       "      <th>2</th>\n",
       "      <td>tt0114447</td>\n",
       "      <td>0.0</td>\n",
       "      <td>NaN</td>\n",
       "      <td>NaN</td>\n",
       "      <td>0.0</td>\n",
       "      <td>[{'id': 53, 'name': 'Thriller'}, {'id': 28, 'n...</td>\n",
       "      <td>NaN</td>\n",
       "      <td>151007.0</td>\n",
       "      <td>en</td>\n",
       "      <td>The Silent Force</td>\n",
       "      <td>...</td>\n",
       "      <td>0.0</td>\n",
       "      <td>90.0</td>\n",
       "      <td>[{'english_name': 'English', 'iso_639_1': 'en'...</td>\n",
       "      <td>Released</td>\n",
       "      <td>They left him for dead... They should have fin...</td>\n",
       "      <td>The Silent Force</td>\n",
       "      <td>0.0</td>\n",
       "      <td>5.000</td>\n",
       "      <td>3.0</td>\n",
       "      <td>NaN</td>\n",
       "    </tr>\n",
       "    <tr>\n",
       "      <th>3</th>\n",
       "      <td>tt0116916</td>\n",
       "      <td>0.0</td>\n",
       "      <td>/rFpHBidSlhjflmnLu7BZilyKeQR.jpg</td>\n",
       "      <td>NaN</td>\n",
       "      <td>0.0</td>\n",
       "      <td>[{'id': 28, 'name': 'Action'}, {'id': 12, 'nam...</td>\n",
       "      <td>NaN</td>\n",
       "      <td>73549.0</td>\n",
       "      <td>en</td>\n",
       "      <td>The Dark Mist</td>\n",
       "      <td>...</td>\n",
       "      <td>0.0</td>\n",
       "      <td>101.0</td>\n",
       "      <td>[{'english_name': 'English', 'iso_639_1': 'en'...</td>\n",
       "      <td>Released</td>\n",
       "      <td>NaN</td>\n",
       "      <td>The Dark Mist</td>\n",
       "      <td>0.0</td>\n",
       "      <td>3.500</td>\n",
       "      <td>2.0</td>\n",
       "      <td>PG</td>\n",
       "    </tr>\n",
       "    <tr>\n",
       "      <th>4</th>\n",
       "      <td>tt0118589</td>\n",
       "      <td>0.0</td>\n",
       "      <td>/9NZAirJahVilTiDNCHLFcdkwkiy.jpg</td>\n",
       "      <td>NaN</td>\n",
       "      <td>22000000.0</td>\n",
       "      <td>[{'id': 18, 'name': 'Drama'}, {'id': 10402, 'n...</td>\n",
       "      <td>NaN</td>\n",
       "      <td>10696.0</td>\n",
       "      <td>en</td>\n",
       "      <td>Glitter</td>\n",
       "      <td>...</td>\n",
       "      <td>5271666.0</td>\n",
       "      <td>104.0</td>\n",
       "      <td>[{'english_name': 'English', 'iso_639_1': 'en'...</td>\n",
       "      <td>Released</td>\n",
       "      <td>In music she found her dream, her love, herself.</td>\n",
       "      <td>Glitter</td>\n",
       "      <td>0.0</td>\n",
       "      <td>4.442</td>\n",
       "      <td>130.0</td>\n",
       "      <td>PG-13</td>\n",
       "    </tr>\n",
       "  </tbody>\n",
       "</table>\n",
       "<p>5 rows × 26 columns</p>\n",
       "</div>"
      ],
      "text/plain": [
       "     imdb_id  adult                     backdrop_path belongs_to_collection  \\\n",
       "0          0    NaN                               NaN                   NaN   \n",
       "1  tt0035423    0.0  /hfeiSfWYujh6MKhtGTXyK3DD4nN.jpg                   NaN   \n",
       "2  tt0114447    0.0                               NaN                   NaN   \n",
       "3  tt0116916    0.0  /rFpHBidSlhjflmnLu7BZilyKeQR.jpg                   NaN   \n",
       "4  tt0118589    0.0  /9NZAirJahVilTiDNCHLFcdkwkiy.jpg                   NaN   \n",
       "\n",
       "       budget                                             genres homepage  \\\n",
       "0         NaN                                                NaN      NaN   \n",
       "1  48000000.0  [{'id': 10749, 'name': 'Romance'}, {'id': 14, ...      NaN   \n",
       "2         0.0  [{'id': 53, 'name': 'Thriller'}, {'id': 28, 'n...      NaN   \n",
       "3         0.0  [{'id': 28, 'name': 'Action'}, {'id': 12, 'nam...      NaN   \n",
       "4  22000000.0  [{'id': 18, 'name': 'Drama'}, {'id': 10402, 'n...      NaN   \n",
       "\n",
       "         id original_language    original_title  ...     revenue  runtime  \\\n",
       "0       NaN               NaN               NaN  ...         NaN      NaN   \n",
       "1   11232.0                en    Kate & Leopold  ...  76019048.0    118.0   \n",
       "2  151007.0                en  The Silent Force  ...         0.0     90.0   \n",
       "3   73549.0                en     The Dark Mist  ...         0.0    101.0   \n",
       "4   10696.0                en           Glitter  ...   5271666.0    104.0   \n",
       "\n",
       "                                    spoken_languages    status  \\\n",
       "0                                                NaN       NaN   \n",
       "1  [{'english_name': 'French', 'iso_639_1': 'fr',...  Released   \n",
       "2  [{'english_name': 'English', 'iso_639_1': 'en'...  Released   \n",
       "3  [{'english_name': 'English', 'iso_639_1': 'en'...  Released   \n",
       "4  [{'english_name': 'English', 'iso_639_1': 'en'...  Released   \n",
       "\n",
       "                                             tagline             title  video  \\\n",
       "0                                                NaN               NaN    NaN   \n",
       "1  If they lived in the same century, they'd be p...    Kate & Leopold    0.0   \n",
       "2  They left him for dead... They should have fin...  The Silent Force    0.0   \n",
       "3                                                NaN     The Dark Mist    0.0   \n",
       "4   In music she found her dream, her love, herself.           Glitter    0.0   \n",
       "\n",
       "   vote_average vote_count certification  \n",
       "0           NaN        NaN           NaN  \n",
       "1         6.331     1226.0         PG-13  \n",
       "2         5.000        3.0           NaN  \n",
       "3         3.500        2.0            PG  \n",
       "4         4.442      130.0         PG-13  \n",
       "\n",
       "[5 rows x 26 columns]"
      ]
     },
     "execution_count": 3,
     "metadata": {},
     "output_type": "execute_result"
    }
   ],
   "source": [
    "tmdb_df = pd.concat([year_2001, year_2002])\n",
    "tmdb_df.head()"
   ]
  },
  {
   "cell_type": "code",
   "execution_count": 4,
   "id": "01715dc1",
   "metadata": {},
   "outputs": [
    {
     "name": "stdout",
     "output_type": "stream",
     "text": [
      "<class 'pandas.core.frame.DataFrame'>\n",
      "Int64Index: 2637 entries, 0 to 1288\n",
      "Data columns (total 26 columns):\n",
      " #   Column                 Non-Null Count  Dtype  \n",
      "---  ------                 --------------  -----  \n",
      " 0   imdb_id                2637 non-null   object \n",
      " 1   adult                  2635 non-null   float64\n",
      " 2   backdrop_path          1506 non-null   object \n",
      " 3   belongs_to_collection  217 non-null    object \n",
      " 4   budget                 2635 non-null   float64\n",
      " 5   genres                 2635 non-null   object \n",
      " 6   homepage               212 non-null    object \n",
      " 7   id                     2635 non-null   float64\n",
      " 8   original_language      2635 non-null   object \n",
      " 9   original_title         2635 non-null   object \n",
      " 10  overview               2582 non-null   object \n",
      " 11  popularity             2635 non-null   float64\n",
      " 12  poster_path            2398 non-null   object \n",
      " 13  production_companies   2635 non-null   object \n",
      " 14  production_countries   2635 non-null   object \n",
      " 15  release_date           2612 non-null   object \n",
      " 16  revenue                2635 non-null   float64\n",
      " 17  runtime                2635 non-null   float64\n",
      " 18  spoken_languages       2635 non-null   object \n",
      " 19  status                 2635 non-null   object \n",
      " 20  tagline                1147 non-null   object \n",
      " 21  title                  2635 non-null   object \n",
      " 22  video                  2635 non-null   float64\n",
      " 23  vote_average           2635 non-null   float64\n",
      " 24  vote_count             2635 non-null   float64\n",
      " 25  certification          870 non-null    object \n",
      "dtypes: float64(9), object(17)\n",
      "memory usage: 556.2+ KB\n"
     ]
    }
   ],
   "source": [
    "tmdb_df.info()"
   ]
  },
  {
   "cell_type": "code",
   "execution_count": 5,
   "id": "4cb99115",
   "metadata": {},
   "outputs": [],
   "source": [
    "tmdb_df = tmdb_df.dropna(subset=['certification','revenue'])"
   ]
  },
  {
   "cell_type": "markdown",
   "id": "4630c65b",
   "metadata": {},
   "source": [
    "# Hypothesis Testing"
   ]
  },
  {
   "cell_type": "markdown",
   "id": "a168a758",
   "metadata": {},
   "source": [
    "# Q1: Does the MPAA rating of a movie (G/PG/PG-13/R) affect how much revenue the movie generates?"
   ]
  },
  {
   "cell_type": "markdown",
   "id": "493252d9",
   "metadata": {},
   "source": [
    "### Hypothesis Defined"
   ]
  },
  {
   "cell_type": "markdown",
   "id": "c3e5563d",
   "metadata": {},
   "source": [
    "- $H_0$ (Null Hypothesis): There is no significant difference between revenue and the rating of a movie.\n",
    "- $H_A$ (Alternative Hypothesis):  There is a significant difference between revenue and the rating of a movie."
   ]
  },
  {
   "cell_type": "markdown",
   "id": "b0b2fc72",
   "metadata": {},
   "source": [
    "###  Determine the correct test to perform.\n",
    "- Type of Data? numeric\n",
    "- How many groups/samples? > 2 groups\n",
    "- Therefore, which test is appropriate? ANOVA"
   ]
  },
  {
   "cell_type": "code",
   "execution_count": 6,
   "id": "2b7a7201",
   "metadata": {},
   "outputs": [],
   "source": [
    "tmdb_df = tmdb_df[tmdb_df.revenue !=0]"
   ]
  },
  {
   "cell_type": "code",
   "execution_count": 7,
   "id": "0cc5d272",
   "metadata": {},
   "outputs": [
    {
     "data": {
      "text/plain": [
       "R        191\n",
       "PG-13    139\n",
       "PG        37\n",
       "G         15\n",
       "NR        12\n",
       "Name: certification, dtype: int64"
      ]
     },
     "execution_count": 7,
     "metadata": {},
     "output_type": "execute_result"
    }
   ],
   "source": [
    "tmdb_df['certification'].value_counts()"
   ]
  },
  {
   "cell_type": "code",
   "execution_count": 8,
   "id": "96f7ae6c",
   "metadata": {},
   "outputs": [
    {
     "data": {
      "text/plain": [
       "R        191\n",
       "PG-13    139\n",
       "PG        37\n",
       "G         15\n",
       "NR        12\n",
       "Name: certification, dtype: int64"
      ]
     },
     "execution_count": 8,
     "metadata": {},
     "output_type": "execute_result"
    }
   ],
   "source": [
    "tmdb_df['certification'] = tmdb_df['certification'].replace({'R ': 'R',\n",
    "                                                            'PG-13 ': 'PG-13'})\n",
    "tmdb_df['certification'].value_counts()"
   ]
  },
  {
   "cell_type": "code",
   "execution_count": 9,
   "id": "ff6727fd",
   "metadata": {},
   "outputs": [
    {
     "data": {
      "text/plain": [
       "dict_keys(['PG-13', 'R', 'PG', 'NR', 'G'])"
      ]
     },
     "execution_count": 9,
     "metadata": {},
     "output_type": "execute_result"
    }
   ],
   "source": [
    "# Create groups dictionary.\n",
    "groups = {}\n",
    "## Loop through all unique categories\n",
    "for rating in tmdb_df['certification'].unique():\n",
    "    ## Get series for group and rename\n",
    "    data = tmdb_df.loc[tmdb_df['certification']==rating,'revenue'].copy()\n",
    "    \n",
    "    # save into the dictionary\n",
    "    groups[rating] = data\n",
    "groups.keys()"
   ]
  },
  {
   "cell_type": "markdown",
   "id": "81cf29a5",
   "metadata": {},
   "source": [
    "### Checking for Outliers"
   ]
  },
  {
   "cell_type": "code",
   "execution_count": 10,
   "id": "5b1c4eb6",
   "metadata": {},
   "outputs": [
    {
     "name": "stdout",
     "output_type": "stream",
     "text": [
      "There were 2 outliers in the PG-13 group.\n",
      "There were 3 outliers in the R group.\n",
      "There were 1 outliers in the PG group.\n",
      "There were 0 outliers in the NR group.\n",
      "There were 1 outliers in the G group.\n"
     ]
    }
   ],
   "source": [
    "## Loop through groups dict\n",
    "for rating, data in groups.items():\n",
    "\n",
    "    ## determine if there are any outliers\n",
    "    outliers = np.abs(stats.zscore(data)) > 3\n",
    "    \n",
    "    ## print a statement about how many outliers for which group name\n",
    "    print(f\"There were {outliers.sum()} outliers in the {rating} group.\")\n",
    "\n",
    "    ## Remove the outiers from data and overwrite the rating data in the dict\n",
    "    data = data.loc[~outliers]\n",
    "    groups[rating] = data"
   ]
  },
  {
   "cell_type": "markdown",
   "id": "2c73a46d",
   "metadata": {},
   "source": [
    "### Test for Normality"
   ]
  },
  {
   "cell_type": "code",
   "execution_count": 11,
   "id": "1187cfd6",
   "metadata": {},
   "outputs": [
    {
     "name": "stderr",
     "output_type": "stream",
     "text": [
      "/usr/local/Caskroom/miniforge/base/envs/dojo-env/lib/python3.10/site-packages/scipy/stats/_stats_py.py:1736: UserWarning: kurtosistest only valid for n>=20 ... continuing anyway, n=12\n",
      "  warnings.warn(\"kurtosistest only valid for n>=20 ... continuing \"\n",
      "/usr/local/Caskroom/miniforge/base/envs/dojo-env/lib/python3.10/site-packages/scipy/stats/_stats_py.py:1736: UserWarning: kurtosistest only valid for n>=20 ... continuing anyway, n=14\n",
      "  warnings.warn(\"kurtosistest only valid for n>=20 ... continuing \"\n"
     ]
    },
    {
     "data": {
      "text/html": [
       "<div>\n",
       "<style scoped>\n",
       "    .dataframe tbody tr th:only-of-type {\n",
       "        vertical-align: middle;\n",
       "    }\n",
       "\n",
       "    .dataframe tbody tr th {\n",
       "        vertical-align: top;\n",
       "    }\n",
       "\n",
       "    .dataframe thead th {\n",
       "        text-align: right;\n",
       "    }\n",
       "</style>\n",
       "<table border=\"1\" class=\"dataframe\">\n",
       "  <thead>\n",
       "    <tr style=\"text-align: right;\">\n",
       "      <th></th>\n",
       "      <th>group</th>\n",
       "      <th>n</th>\n",
       "      <th>pval</th>\n",
       "      <th>sig?</th>\n",
       "    </tr>\n",
       "  </thead>\n",
       "  <tbody>\n",
       "    <tr>\n",
       "      <th>0</th>\n",
       "      <td>PG-13</td>\n",
       "      <td>137</td>\n",
       "      <td>8.430582e-12</td>\n",
       "      <td>True</td>\n",
       "    </tr>\n",
       "    <tr>\n",
       "      <th>1</th>\n",
       "      <td>R</td>\n",
       "      <td>188</td>\n",
       "      <td>3.018833e-16</td>\n",
       "      <td>True</td>\n",
       "    </tr>\n",
       "    <tr>\n",
       "      <th>2</th>\n",
       "      <td>PG</td>\n",
       "      <td>36</td>\n",
       "      <td>2.586550e-06</td>\n",
       "      <td>True</td>\n",
       "    </tr>\n",
       "    <tr>\n",
       "      <th>3</th>\n",
       "      <td>NR</td>\n",
       "      <td>12</td>\n",
       "      <td>6.190481e-04</td>\n",
       "      <td>True</td>\n",
       "    </tr>\n",
       "    <tr>\n",
       "      <th>4</th>\n",
       "      <td>G</td>\n",
       "      <td>14</td>\n",
       "      <td>2.870226e-01</td>\n",
       "      <td>False</td>\n",
       "    </tr>\n",
       "  </tbody>\n",
       "</table>\n",
       "</div>"
      ],
      "text/plain": [
       "   group    n          pval   sig?\n",
       "0  PG-13  137  8.430582e-12   True\n",
       "1      R  188  3.018833e-16   True\n",
       "2     PG   36  2.586550e-06   True\n",
       "3     NR   12  6.190481e-04   True\n",
       "4      G   14  2.870226e-01  False"
      ]
     },
     "execution_count": 11,
     "metadata": {},
     "output_type": "execute_result"
    }
   ],
   "source": [
    "## Running normal test on each group and confirming there are >20 in each group\n",
    "\n",
    "## Save a list with an inner list of column names\n",
    "norm_results = [['group','n','pval','sig?']]\n",
    "\n",
    "\n",
    "## loop through group dict\n",
    "for rating, data in groups.items():\n",
    "    ## calculate normaltest results\n",
    "    stat, p = stats.normaltest(data)\n",
    "    \n",
    "    ## Append the right info into norm_resutls (as a list)\n",
    "    norm_results.append([rating,len(data), p, p<.05])\n",
    "    \n",
    "    \n",
    "## Make norm_results a dataframe (first row is columns, everything else data)\n",
    "normal_results = pd.DataFrame(norm_results[1:], columns = norm_results[0])\n",
    "normal_results"
   ]
  },
  {
   "cell_type": "markdown",
   "id": "2b9f62b7",
   "metadata": {},
   "source": [
    "- We failed the assumpution for normality for G, PG, PG-13, R, and NR groups, but these groups are large enough that we can safely disregard the assumption of normality."
   ]
  },
  {
   "cell_type": "markdown",
   "id": "01b43112",
   "metadata": {},
   "source": [
    "### Check for Equal Variance"
   ]
  },
  {
   "cell_type": "code",
   "execution_count": 12,
   "id": "080d61a1",
   "metadata": {},
   "outputs": [
    {
     "name": "stdout",
     "output_type": "stream",
     "text": [
      "LeveneResult(statistic=12.612885756810318, pvalue=1.1942216891056196e-09)\n"
     ]
    }
   ],
   "source": [
    "## Use Levene's test for equal variance\n",
    "result = stats.levene(*groups.values())\n",
    "print(result)"
   ]
  },
  {
   "cell_type": "code",
   "execution_count": 13,
   "id": "586aa030",
   "metadata": {},
   "outputs": [
    {
     "name": "stdout",
     "output_type": "stream",
     "text": [
      "The groups do NOT have equal variance.\n"
     ]
    }
   ],
   "source": [
    "## Use an if-else to help interpret the p-value\n",
    "if result.pvalue < 0.5:\n",
    "    print(f'The groups do NOT have equal variance.')\n",
    "else:\n",
    "    print(f'the groups DO have equal variance.')"
   ]
  },
  {
   "cell_type": "markdown",
   "id": "57be0e19",
   "metadata": {},
   "source": [
    "- We reject the null hypothesis of equal variance.\n",
    "- We wanted to run ANOVA test, but will need to use Kruskal-Wallis test insead."
   ]
  },
  {
   "cell_type": "markdown",
   "id": "d4a96db3",
   "metadata": {},
   "source": [
    "### Perform and Evaluate Kruskal-Wallis Test"
   ]
  },
  {
   "cell_type": "code",
   "execution_count": 14,
   "id": "eea2b1ef",
   "metadata": {},
   "outputs": [
    {
     "name": "stdout",
     "output_type": "stream",
     "text": [
      "KruskalResult(statistic=59.466019576815825, pvalue=3.755977766504532e-12)\n"
     ]
    },
    {
     "data": {
      "text/plain": [
       "True"
      ]
     },
     "execution_count": 14,
     "metadata": {},
     "output_type": "execute_result"
    }
   ],
   "source": [
    "## Running Krukal Test for Original Hypothesis\n",
    "result = stats.kruskal(*groups.values())\n",
    "print(result)\n",
    "result.pvalue<.05"
   ]
  },
  {
   "cell_type": "markdown",
   "id": "3a701aa5",
   "metadata": {},
   "source": [
    "- We reject the null hypothesis and support that there is a significant difference between revenue and the rating of a movie."
   ]
  },
  {
   "cell_type": "code",
   "execution_count": 15,
   "id": "71bebe98",
   "metadata": {},
   "outputs": [
    {
     "data": {
      "text/plain": [
       "<Axes: xlabel='certification', ylabel='revenue'>"
      ]
     },
     "execution_count": 15,
     "metadata": {},
     "output_type": "execute_result"
    },
    {
     "data": {
      "image/png": "[encoded data removed]",
      "text/plain": [
       "<Figure size 640x480 with 1 Axes>"
      ]
     },
     "metadata": {},
     "output_type": "display_data"
    }
   ],
   "source": [
    "sns.barplot(data=tmdb_df, x='certification', y='revenue')"
   ]
  },
  {
   "cell_type": "markdown",
   "id": "2a80a0a7",
   "metadata": {},
   "source": [
    "- PG group has the highest mean revenue and NC-17 group has the lowest mean revenue."
   ]
  },
  {
   "cell_type": "markdown",
   "id": "444566bd",
   "metadata": {},
   "source": [
    "# Q2: Do movies that are 2.5 hours or longer earn more revenue than movies that are less than 2.5 hours?"
   ]
  },
  {
   "cell_type": "markdown",
   "id": "01960a77",
   "metadata": {},
   "source": [
    "### Hypothesis Defined"
   ]
  },
  {
   "cell_type": "markdown",
   "id": "c2ef5939",
   "metadata": {},
   "source": [
    "- $H_0$ (Null Hypothesis): There is no significant difference between revenue and the length of a movie.\n",
    "- $H_A$ (Alternative Hypothesis):  There is a significant difference between revenue and the length of a movie."
   ]
  },
  {
   "cell_type": "markdown",
   "id": "db762e52",
   "metadata": {},
   "source": [
    "###  Determine the correct test to perform.\n",
    "- Type of Data? numeric\n",
    "- How many groups/samples? 2 groups\n",
    "- Therefore, which test is appropriate? 2 sample t-test"
   ]
  },
  {
   "cell_type": "code",
   "execution_count": 16,
   "id": "e02b7316",
   "metadata": {},
   "outputs": [
    {
     "data": {
      "text/plain": [
       "101.0    17\n",
       "96.0     16\n",
       "95.0     15\n",
       "93.0     13\n",
       "90.0     12\n",
       "         ..\n",
       "147.0     1\n",
       "183.0     1\n",
       "224.0     1\n",
       "146.0     1\n",
       "56.0      1\n",
       "Name: runtime, Length: 84, dtype: int64"
      ]
     },
     "execution_count": 16,
     "metadata": {},
     "output_type": "execute_result"
    }
   ],
   "source": [
    "tmdb_df['runtime'].value_counts()"
   ]
  },
  {
   "cell_type": "code",
   "execution_count": 17,
   "id": "0f790286",
   "metadata": {},
   "outputs": [],
   "source": [
    "tmdb_df['longer_movie'] = tmdb_df['runtime'] >= 150"
   ]
  },
  {
   "cell_type": "code",
   "execution_count": 18,
   "id": "9858f45c",
   "metadata": {},
   "outputs": [
    {
     "data": {
      "text/plain": [
       "<bound method IndexOpsMixin.value_counts of 1       False\n",
       "4       False\n",
       "9       False\n",
       "10       True\n",
       "12      False\n",
       "        ...  \n",
       "1080    False\n",
       "1081    False\n",
       "1130    False\n",
       "1186    False\n",
       "1234    False\n",
       "Name: longer_movie, Length: 394, dtype: bool>"
      ]
     },
     "execution_count": 18,
     "metadata": {},
     "output_type": "execute_result"
    }
   ],
   "source": [
    "tmdb_df['longer_movie'].value_counts"
   ]
  },
  {
   "cell_type": "code",
   "execution_count": 19,
   "id": "1225e6c5",
   "metadata": {},
   "outputs": [],
   "source": [
    "## save list of columns needed for each group\n",
    "needed_cols = ['longer_movie', 'revenue']"
   ]
  },
  {
   "cell_type": "code",
   "execution_count": 20,
   "id": "c3f22365",
   "metadata": {},
   "outputs": [
    {
     "data": {
      "text/html": [
       "<div>\n",
       "<style scoped>\n",
       "    .dataframe tbody tr th:only-of-type {\n",
       "        vertical-align: middle;\n",
       "    }\n",
       "\n",
       "    .dataframe tbody tr th {\n",
       "        vertical-align: top;\n",
       "    }\n",
       "\n",
       "    .dataframe thead th {\n",
       "        text-align: right;\n",
       "    }\n",
       "</style>\n",
       "<table border=\"1\" class=\"dataframe\">\n",
       "  <thead>\n",
       "    <tr style=\"text-align: right;\">\n",
       "      <th></th>\n",
       "      <th>longer_movie</th>\n",
       "      <th>revenue</th>\n",
       "    </tr>\n",
       "  </thead>\n",
       "  <tbody>\n",
       "    <tr>\n",
       "      <th>10</th>\n",
       "      <td>True</td>\n",
       "      <td>871368364.0</td>\n",
       "    </tr>\n",
       "    <tr>\n",
       "      <th>57</th>\n",
       "      <td>True</td>\n",
       "      <td>8100000.0</td>\n",
       "    </tr>\n",
       "    <tr>\n",
       "      <th>162</th>\n",
       "      <td>True</td>\n",
       "      <td>449220945.0</td>\n",
       "    </tr>\n",
       "    <tr>\n",
       "      <th>311</th>\n",
       "      <td>True</td>\n",
       "      <td>976475550.0</td>\n",
       "    </tr>\n",
       "    <tr>\n",
       "      <th>426</th>\n",
       "      <td>True</td>\n",
       "      <td>19000000.0</td>\n",
       "    </tr>\n",
       "    <tr>\n",
       "      <th>643</th>\n",
       "      <td>True</td>\n",
       "      <td>37317558.0</td>\n",
       "    </tr>\n",
       "    <tr>\n",
       "      <th>898</th>\n",
       "      <td>True</td>\n",
       "      <td>3786801.0</td>\n",
       "    </tr>\n",
       "    <tr>\n",
       "      <th>27</th>\n",
       "      <td>True</td>\n",
       "      <td>926287400.0</td>\n",
       "    </tr>\n",
       "    <tr>\n",
       "      <th>56</th>\n",
       "      <td>True</td>\n",
       "      <td>193772504.0</td>\n",
       "    </tr>\n",
       "    <tr>\n",
       "      <th>137</th>\n",
       "      <td>True</td>\n",
       "      <td>120072577.0</td>\n",
       "    </tr>\n",
       "    <tr>\n",
       "      <th>556</th>\n",
       "      <td>True</td>\n",
       "      <td>876688482.0</td>\n",
       "    </tr>\n",
       "  </tbody>\n",
       "</table>\n",
       "</div>"
      ],
      "text/plain": [
       "     longer_movie      revenue\n",
       "10           True  871368364.0\n",
       "57           True    8100000.0\n",
       "162          True  449220945.0\n",
       "311          True  976475550.0\n",
       "426          True   19000000.0\n",
       "643          True   37317558.0\n",
       "898          True    3786801.0\n",
       "27           True  926287400.0\n",
       "56           True  193772504.0\n",
       "137          True  120072577.0\n",
       "556          True  876688482.0"
      ]
     },
     "execution_count": 20,
     "metadata": {},
     "output_type": "execute_result"
    }
   ],
   "source": [
    "## save longer_movie in separate variable\n",
    "longer_movie_df = tmdb_df.loc[tmdb_df['longer_movie']==True, needed_cols]\n",
    "longer_movie_df"
   ]
  },
  {
   "cell_type": "code",
   "execution_count": 21,
   "id": "7fca4af0",
   "metadata": {},
   "outputs": [
    {
     "data": {
      "text/html": [
       "<div>\n",
       "<style scoped>\n",
       "    .dataframe tbody tr th:only-of-type {\n",
       "        vertical-align: middle;\n",
       "    }\n",
       "\n",
       "    .dataframe tbody tr th {\n",
       "        vertical-align: top;\n",
       "    }\n",
       "\n",
       "    .dataframe thead th {\n",
       "        text-align: right;\n",
       "    }\n",
       "</style>\n",
       "<table border=\"1\" class=\"dataframe\">\n",
       "  <thead>\n",
       "    <tr style=\"text-align: right;\">\n",
       "      <th></th>\n",
       "      <th>longer_movie</th>\n",
       "      <th>revenue</th>\n",
       "    </tr>\n",
       "  </thead>\n",
       "  <tbody>\n",
       "    <tr>\n",
       "      <th>1</th>\n",
       "      <td>False</td>\n",
       "      <td>76019048.0</td>\n",
       "    </tr>\n",
       "    <tr>\n",
       "      <th>4</th>\n",
       "      <td>False</td>\n",
       "      <td>5271666.0</td>\n",
       "    </tr>\n",
       "    <tr>\n",
       "      <th>9</th>\n",
       "      <td>False</td>\n",
       "      <td>74558115.0</td>\n",
       "    </tr>\n",
       "    <tr>\n",
       "      <th>12</th>\n",
       "      <td>False</td>\n",
       "      <td>24690441.0</td>\n",
       "    </tr>\n",
       "    <tr>\n",
       "      <th>15</th>\n",
       "      <td>False</td>\n",
       "      <td>57756408.0</td>\n",
       "    </tr>\n",
       "    <tr>\n",
       "      <th>...</th>\n",
       "      <td>...</td>\n",
       "      <td>...</td>\n",
       "    </tr>\n",
       "    <tr>\n",
       "      <th>1080</th>\n",
       "      <td>False</td>\n",
       "      <td>54016370.0</td>\n",
       "    </tr>\n",
       "    <tr>\n",
       "      <th>1081</th>\n",
       "      <td>False</td>\n",
       "      <td>20867919.0</td>\n",
       "    </tr>\n",
       "    <tr>\n",
       "      <th>1130</th>\n",
       "      <td>False</td>\n",
       "      <td>3657876.0</td>\n",
       "    </tr>\n",
       "    <tr>\n",
       "      <th>1186</th>\n",
       "      <td>False</td>\n",
       "      <td>1831166.0</td>\n",
       "    </tr>\n",
       "    <tr>\n",
       "      <th>1234</th>\n",
       "      <td>False</td>\n",
       "      <td>13107237.0</td>\n",
       "    </tr>\n",
       "  </tbody>\n",
       "</table>\n",
       "<p>383 rows × 2 columns</p>\n",
       "</div>"
      ],
      "text/plain": [
       "      longer_movie     revenue\n",
       "1            False  76019048.0\n",
       "4            False   5271666.0\n",
       "9            False  74558115.0\n",
       "12           False  24690441.0\n",
       "15           False  57756408.0\n",
       "...            ...         ...\n",
       "1080         False  54016370.0\n",
       "1081         False  20867919.0\n",
       "1130         False   3657876.0\n",
       "1186         False   1831166.0\n",
       "1234         False  13107237.0\n",
       "\n",
       "[383 rows x 2 columns]"
      ]
     },
     "execution_count": 21,
     "metadata": {},
     "output_type": "execute_result"
    }
   ],
   "source": [
    "## save shorter_movie in separate variable\n",
    "shorter_movie_df = tmdb_df.loc[tmdb_df['longer_movie']==False, needed_cols]\n",
    "shorter_movie_df"
   ]
  },
  {
   "cell_type": "code",
   "execution_count": 22,
   "id": "21ca5bbc",
   "metadata": {},
   "outputs": [
    {
     "data": {
      "text/html": [
       "<div>\n",
       "<style scoped>\n",
       "    .dataframe tbody tr th:only-of-type {\n",
       "        vertical-align: middle;\n",
       "    }\n",
       "\n",
       "    .dataframe tbody tr th {\n",
       "        vertical-align: top;\n",
       "    }\n",
       "\n",
       "    .dataframe thead th {\n",
       "        text-align: right;\n",
       "    }\n",
       "</style>\n",
       "<table border=\"1\" class=\"dataframe\">\n",
       "  <thead>\n",
       "    <tr style=\"text-align: right;\">\n",
       "      <th></th>\n",
       "      <th>longer_movie</th>\n",
       "      <th>revenue</th>\n",
       "    </tr>\n",
       "  </thead>\n",
       "  <tbody>\n",
       "    <tr>\n",
       "      <th>1</th>\n",
       "      <td>False</td>\n",
       "      <td>76019048.0</td>\n",
       "    </tr>\n",
       "    <tr>\n",
       "      <th>4</th>\n",
       "      <td>False</td>\n",
       "      <td>5271666.0</td>\n",
       "    </tr>\n",
       "    <tr>\n",
       "      <th>9</th>\n",
       "      <td>False</td>\n",
       "      <td>74558115.0</td>\n",
       "    </tr>\n",
       "    <tr>\n",
       "      <th>12</th>\n",
       "      <td>False</td>\n",
       "      <td>24690441.0</td>\n",
       "    </tr>\n",
       "    <tr>\n",
       "      <th>15</th>\n",
       "      <td>False</td>\n",
       "      <td>57756408.0</td>\n",
       "    </tr>\n",
       "    <tr>\n",
       "      <th>...</th>\n",
       "      <td>...</td>\n",
       "      <td>...</td>\n",
       "    </tr>\n",
       "    <tr>\n",
       "      <th>898</th>\n",
       "      <td>True</td>\n",
       "      <td>3786801.0</td>\n",
       "    </tr>\n",
       "    <tr>\n",
       "      <th>27</th>\n",
       "      <td>True</td>\n",
       "      <td>926287400.0</td>\n",
       "    </tr>\n",
       "    <tr>\n",
       "      <th>56</th>\n",
       "      <td>True</td>\n",
       "      <td>193772504.0</td>\n",
       "    </tr>\n",
       "    <tr>\n",
       "      <th>137</th>\n",
       "      <td>True</td>\n",
       "      <td>120072577.0</td>\n",
       "    </tr>\n",
       "    <tr>\n",
       "      <th>556</th>\n",
       "      <td>True</td>\n",
       "      <td>876688482.0</td>\n",
       "    </tr>\n",
       "  </tbody>\n",
       "</table>\n",
       "<p>394 rows × 2 columns</p>\n",
       "</div>"
      ],
      "text/plain": [
       "     longer_movie      revenue\n",
       "1           False   76019048.0\n",
       "4           False    5271666.0\n",
       "9           False   74558115.0\n",
       "12          False   24690441.0\n",
       "15          False   57756408.0\n",
       "..            ...          ...\n",
       "898          True    3786801.0\n",
       "27           True  926287400.0\n",
       "56           True  193772504.0\n",
       "137          True  120072577.0\n",
       "556          True  876688482.0\n",
       "\n",
       "[394 rows x 2 columns]"
      ]
     },
     "execution_count": 22,
     "metadata": {},
     "output_type": "execute_result"
    }
   ],
   "source": [
    "## Make a df just for visualization by concat the groups \n",
    "plot_df =  pd.concat([shorter_movie_df, longer_movie_df])\n",
    "plot_df"
   ]
  },
  {
   "cell_type": "code",
   "execution_count": 23,
   "id": "7d79aabd",
   "metadata": {},
   "outputs": [
    {
     "data": {
      "text/plain": [
       "<Axes: xlabel='longer_movie', ylabel='revenue'>"
      ]
     },
     "execution_count": 23,
     "metadata": {},
     "output_type": "execute_result"
    },
    {
     "data": {
      "image/png": "[encoded data removed]",
      "text/plain": [
       "<Figure size 640x480 with 1 Axes>"
      ]
     },
     "metadata": {},
     "output_type": "display_data"
    }
   ],
   "source": [
    "## visualize the groups means\n",
    "sns.barplot(data=plot_df, x='longer_movie', y='revenue')"
   ]
  },
  {
   "cell_type": "code",
   "execution_count": 24,
   "id": "012b8260",
   "metadata": {},
   "outputs": [
    {
     "data": {
      "text/plain": [
       "10     871368364.0\n",
       "57       8100000.0\n",
       "162    449220945.0\n",
       "311    976475550.0\n",
       "426     19000000.0\n",
       "643     37317558.0\n",
       "898      3786801.0\n",
       "27     926287400.0\n",
       "56     193772504.0\n",
       "137    120072577.0\n",
       "556    876688482.0\n",
       "Name: revenue, dtype: float64"
      ]
     },
     "execution_count": 24,
     "metadata": {},
     "output_type": "execute_result"
    }
   ],
   "source": [
    "## Saving JUST the numeric col as final group variables\n",
    "longer_movie_group = longer_movie_df['revenue']\n",
    "shorter_movie_group = shorter_movie_df['revenue']\n",
    "longer_movie_group"
   ]
  },
  {
   "cell_type": "markdown",
   "id": "b39ff81c",
   "metadata": {},
   "source": [
    "### Check for Outliers"
   ]
  },
  {
   "cell_type": "code",
   "execution_count": 25,
   "id": "512631d9",
   "metadata": {},
   "outputs": [
    {
     "data": {
      "text/plain": [
       "0"
      ]
     },
     "execution_count": 25,
     "metadata": {},
     "output_type": "execute_result"
    }
   ],
   "source": [
    "## Check longer_movie_group for outliers\n",
    "longer_movie_outliers = np.abs(stats.zscore(longer_movie_group)) > 3\n",
    "\n",
    "## how many outliers?\n",
    "longer_movie_outliers.sum()"
   ]
  },
  {
   "cell_type": "code",
   "execution_count": 26,
   "id": "299bdb00",
   "metadata": {},
   "outputs": [
    {
     "data": {
      "text/plain": [
       "10     871368364.0\n",
       "57       8100000.0\n",
       "162    449220945.0\n",
       "311    976475550.0\n",
       "426     19000000.0\n",
       "643     37317558.0\n",
       "898      3786801.0\n",
       "27     926287400.0\n",
       "56     193772504.0\n",
       "137    120072577.0\n",
       "556    876688482.0\n",
       "Name: revenue, dtype: float64"
      ]
     },
     "execution_count": 26,
     "metadata": {},
     "output_type": "execute_result"
    }
   ],
   "source": [
    "## remove outliers from longer_movie_group\n",
    "longer_movie_group = longer_movie_group.loc[~longer_movie_outliers]\n",
    "longer_movie_group"
   ]
  },
  {
   "cell_type": "code",
   "execution_count": 27,
   "id": "238740cf",
   "metadata": {},
   "outputs": [
    {
     "data": {
      "text/plain": [
       "10"
      ]
     },
     "execution_count": 27,
     "metadata": {},
     "output_type": "execute_result"
    }
   ],
   "source": [
    "## Check shorter_movie_group for outliers\n",
    "shorter_movie_outliers = np.abs(stats.zscore(shorter_movie_group)) > 3\n",
    "\n",
    "## how many outliers?\n",
    "shorter_movie_outliers.sum()"
   ]
  },
  {
   "cell_type": "code",
   "execution_count": 28,
   "id": "682edfed",
   "metadata": {},
   "outputs": [
    {
     "data": {
      "text/plain": [
       "1       76019048.0\n",
       "4        5271666.0\n",
       "9       74558115.0\n",
       "12      24690441.0\n",
       "15      57756408.0\n",
       "           ...    \n",
       "1080    54016370.0\n",
       "1081    20867919.0\n",
       "1130     3657876.0\n",
       "1186     1831166.0\n",
       "1234    13107237.0\n",
       "Name: revenue, Length: 373, dtype: float64"
      ]
     },
     "execution_count": 28,
     "metadata": {},
     "output_type": "execute_result"
    }
   ],
   "source": [
    "## remove outliers from shorter_movie_group\n",
    "shorter_movie_group = shorter_movie_group.loc[~shorter_movie_outliers]\n",
    "shorter_movie_group"
   ]
  },
  {
   "cell_type": "markdown",
   "id": "889fc1b8",
   "metadata": {},
   "source": [
    "### Test for Normality"
   ]
  },
  {
   "cell_type": "code",
   "execution_count": 29,
   "id": "dccbb8cf",
   "metadata": {},
   "outputs": [
    {
     "name": "stdout",
     "output_type": "stream",
     "text": [
      "0.046909605517271705\n"
     ]
    },
    {
     "name": "stderr",
     "output_type": "stream",
     "text": [
      "/usr/local/Caskroom/miniforge/base/envs/dojo-env/lib/python3.10/site-packages/scipy/stats/_stats_py.py:1736: UserWarning: kurtosistest only valid for n>=20 ... continuing anyway, n=11\n",
      "  warnings.warn(\"kurtosistest only valid for n>=20 ... continuing \"\n"
     ]
    },
    {
     "data": {
      "text/plain": [
       "True"
      ]
     },
     "execution_count": 29,
     "metadata": {},
     "output_type": "execute_result"
    }
   ],
   "source": [
    "result = stats.normaltest(longer_movie_group)\n",
    "print(result.pvalue)\n",
    "result.pvalue < .05"
   ]
  },
  {
   "cell_type": "code",
   "execution_count": 30,
   "id": "7cfc7e0d",
   "metadata": {},
   "outputs": [
    {
     "data": {
      "text/plain": [
       "11"
      ]
     },
     "execution_count": 30,
     "metadata": {},
     "output_type": "execute_result"
    }
   ],
   "source": [
    "len(longer_movie_group)"
   ]
  },
  {
   "cell_type": "code",
   "execution_count": 31,
   "id": "de5aac25",
   "metadata": {},
   "outputs": [
    {
     "data": {
      "text/plain": [
       "True"
      ]
     },
     "execution_count": 31,
     "metadata": {},
     "output_type": "execute_result"
    }
   ],
   "source": [
    "result = stats.normaltest(shorter_movie_group)\n",
    "result.pvalue < .05"
   ]
  },
  {
   "cell_type": "code",
   "execution_count": 32,
   "id": "32892e75",
   "metadata": {},
   "outputs": [
    {
     "data": {
      "text/plain": [
       "373"
      ]
     },
     "execution_count": 32,
     "metadata": {},
     "output_type": "execute_result"
    }
   ],
   "source": [
    "len(shorter_movie_group)"
   ]
  },
  {
   "cell_type": "markdown",
   "id": "76b62891",
   "metadata": {},
   "source": [
    "- We fail to reject the null hypothesis that there is no statistical difference between the longer_movie_group and a normal distribution. \n",
    "- We reject the null hypothesis and conclude that there is a statistical difference between the shorter_movie_group and a normal distribution."
   ]
  },
  {
   "cell_type": "markdown",
   "id": "7f3725fb",
   "metadata": {},
   "source": [
    "### Check for Equal Variance"
   ]
  },
  {
   "cell_type": "code",
   "execution_count": 33,
   "id": "a9b62a6c",
   "metadata": {},
   "outputs": [
    {
     "name": "stdout",
     "output_type": "stream",
     "text": [
      "LeveneResult(statistic=158.21309446604758, pvalue=1.345126328492755e-30)\n"
     ]
    }
   ],
   "source": [
    "## Use Levene's test for equal variance\n",
    "result = stats.levene(longer_movie_group, shorter_movie_group)\n",
    "print(result)"
   ]
  },
  {
   "cell_type": "code",
   "execution_count": 34,
   "id": "63ba46e6",
   "metadata": {},
   "outputs": [
    {
     "name": "stdout",
     "output_type": "stream",
     "text": [
      "The groups do NOT have equal variance.\n"
     ]
    }
   ],
   "source": [
    "## Use an if-else to help interpret the p-value\n",
    "if result.pvalue < 0.5:\n",
    "    print(f'The groups do NOT have equal variance.')\n",
    "else:\n",
    "    print(f'the groups DO have equal variance.')"
   ]
  },
  {
   "cell_type": "markdown",
   "id": "0d965c3b",
   "metadata": {},
   "source": [
    "### Perform and Evaluate t-test"
   ]
  },
  {
   "cell_type": "code",
   "execution_count": 35,
   "id": "9bd23672",
   "metadata": {},
   "outputs": [
    {
     "name": "stdout",
     "output_type": "stream",
     "text": [
      "Ttest_indResult(statistic=2.775535789986107, pvalue=0.019568310365833747)\n"
     ]
    },
    {
     "data": {
      "text/plain": [
       "True"
      ]
     },
     "execution_count": 35,
     "metadata": {},
     "output_type": "execute_result"
    }
   ],
   "source": [
    "## run final hypothess test\n",
    "result = stats.ttest_ind(longer_movie_group, shorter_movie_group, equal_var=False)\n",
    "print(result)\n",
    "result.pvalue < 0.05"
   ]
  },
  {
   "cell_type": "markdown",
   "id": "bf2bfb4d",
   "metadata": {},
   "source": [
    "- We reject the null hypothesis and support that there is a significant difference between revenue and the length of a movie."
   ]
  },
  {
   "cell_type": "code",
   "execution_count": 36,
   "id": "893c6772",
   "metadata": {},
   "outputs": [
    {
     "name": "stdout",
     "output_type": "stream",
     "text": [
      "The average revenue for longer_movie_group was  407462743.73\n",
      "There average revenue for shorter_movie_group was  55354009.08\n"
     ]
    }
   ],
   "source": [
    "print(f'The average revenue for longer_movie_group was {longer_movie_group.mean(): .2f}')\n",
    "print(f'There average revenue for shorter_movie_group was {shorter_movie_group.mean(): .2f}')"
   ]
  },
  {
   "cell_type": "code",
   "execution_count": 37,
   "id": "0b9f3849",
   "metadata": {},
   "outputs": [
    {
     "data": {
      "text/html": [
       "<div>\n",
       "<style scoped>\n",
       "    .dataframe tbody tr th:only-of-type {\n",
       "        vertical-align: middle;\n",
       "    }\n",
       "\n",
       "    .dataframe tbody tr th {\n",
       "        vertical-align: top;\n",
       "    }\n",
       "\n",
       "    .dataframe thead th {\n",
       "        text-align: right;\n",
       "    }\n",
       "</style>\n",
       "<table border=\"1\" class=\"dataframe\">\n",
       "  <thead>\n",
       "    <tr style=\"text-align: right;\">\n",
       "      <th></th>\n",
       "      <th>longer_movie</th>\n",
       "      <th>revenue</th>\n",
       "    </tr>\n",
       "  </thead>\n",
       "  <tbody>\n",
       "    <tr>\n",
       "      <th>10</th>\n",
       "      <td>True</td>\n",
       "      <td>871368364.0</td>\n",
       "    </tr>\n",
       "    <tr>\n",
       "      <th>57</th>\n",
       "      <td>True</td>\n",
       "      <td>8100000.0</td>\n",
       "    </tr>\n",
       "    <tr>\n",
       "      <th>162</th>\n",
       "      <td>True</td>\n",
       "      <td>449220945.0</td>\n",
       "    </tr>\n",
       "    <tr>\n",
       "      <th>311</th>\n",
       "      <td>True</td>\n",
       "      <td>976475550.0</td>\n",
       "    </tr>\n",
       "    <tr>\n",
       "      <th>426</th>\n",
       "      <td>True</td>\n",
       "      <td>19000000.0</td>\n",
       "    </tr>\n",
       "    <tr>\n",
       "      <th>...</th>\n",
       "      <td>...</td>\n",
       "      <td>...</td>\n",
       "    </tr>\n",
       "    <tr>\n",
       "      <th>1080</th>\n",
       "      <td>False</td>\n",
       "      <td>54016370.0</td>\n",
       "    </tr>\n",
       "    <tr>\n",
       "      <th>1081</th>\n",
       "      <td>False</td>\n",
       "      <td>20867919.0</td>\n",
       "    </tr>\n",
       "    <tr>\n",
       "      <th>1130</th>\n",
       "      <td>False</td>\n",
       "      <td>3657876.0</td>\n",
       "    </tr>\n",
       "    <tr>\n",
       "      <th>1186</th>\n",
       "      <td>False</td>\n",
       "      <td>1831166.0</td>\n",
       "    </tr>\n",
       "    <tr>\n",
       "      <th>1234</th>\n",
       "      <td>False</td>\n",
       "      <td>13107237.0</td>\n",
       "    </tr>\n",
       "  </tbody>\n",
       "</table>\n",
       "<p>384 rows × 2 columns</p>\n",
       "</div>"
      ],
      "text/plain": [
       "      longer_movie      revenue\n",
       "10            True  871368364.0\n",
       "57            True    8100000.0\n",
       "162           True  449220945.0\n",
       "311           True  976475550.0\n",
       "426           True   19000000.0\n",
       "...            ...          ...\n",
       "1080         False   54016370.0\n",
       "1081         False   20867919.0\n",
       "1130         False    3657876.0\n",
       "1186         False    1831166.0\n",
       "1234         False   13107237.0\n",
       "\n",
       "[384 rows x 2 columns]"
      ]
     },
     "execution_count": 37,
     "metadata": {},
     "output_type": "execute_result"
    }
   ],
   "source": [
    "# create dataframe without outliers\n",
    "plot_df = pd.concat([longer_movie_df.loc[~longer_movie_outliers],\n",
    "                    shorter_movie_df.loc[~shorter_movie_outliers]], axis=0)\n",
    "plot_df"
   ]
  },
  {
   "cell_type": "code",
   "execution_count": 38,
   "id": "d08f6e1b",
   "metadata": {},
   "outputs": [
    {
     "data": {
      "text/plain": [
       "<Axes: xlabel='longer_movie', ylabel='revenue'>"
      ]
     },
     "execution_count": 38,
     "metadata": {},
     "output_type": "execute_result"
    },
    {
     "data": {
      "image/png": "[encoded data removed]",
      "text/plain": [
       "<Figure size 640x480 with 1 Axes>"
      ]
     },
     "metadata": {},
     "output_type": "display_data"
    }
   ],
   "source": [
    "# vizualize means without outliers\n",
    "sns.barplot(data=plot_df, x='longer_movie', y='revenue')"
   ]
  },
  {
   "cell_type": "markdown",
   "id": "626c5db6",
   "metadata": {},
   "source": [
    "- There is a higher mean revenue for movies at least 2.5 hours than movies that are less than 2.5 hours."
   ]
  },
  {
   "cell_type": "markdown",
   "id": "5e26726c",
   "metadata": {},
   "source": [
    "# Q3: Do movies released in 2001 earn less revenue than movies released in 2002?"
   ]
  },
  {
   "cell_type": "code",
   "execution_count": 39,
   "id": "8b246a6d",
   "metadata": {},
   "outputs": [],
   "source": [
    "released_df = pd.concat([year_2001, year_2002])"
   ]
  },
  {
   "cell_type": "code",
   "execution_count": 40,
   "id": "8b93eca2",
   "metadata": {},
   "outputs": [
    {
     "name": "stdout",
     "output_type": "stream",
     "text": [
      "<class 'pandas.core.frame.DataFrame'>\n",
      "Int64Index: 2637 entries, 0 to 1288\n",
      "Data columns (total 26 columns):\n",
      " #   Column                 Non-Null Count  Dtype  \n",
      "---  ------                 --------------  -----  \n",
      " 0   imdb_id                2637 non-null   object \n",
      " 1   adult                  2635 non-null   float64\n",
      " 2   backdrop_path          1506 non-null   object \n",
      " 3   belongs_to_collection  217 non-null    object \n",
      " 4   budget                 2635 non-null   float64\n",
      " 5   genres                 2635 non-null   object \n",
      " 6   homepage               212 non-null    object \n",
      " 7   id                     2635 non-null   float64\n",
      " 8   original_language      2635 non-null   object \n",
      " 9   original_title         2635 non-null   object \n",
      " 10  overview               2582 non-null   object \n",
      " 11  popularity             2635 non-null   float64\n",
      " 12  poster_path            2398 non-null   object \n",
      " 13  production_companies   2635 non-null   object \n",
      " 14  production_countries   2635 non-null   object \n",
      " 15  release_date           2612 non-null   object \n",
      " 16  revenue                2635 non-null   float64\n",
      " 17  runtime                2635 non-null   float64\n",
      " 18  spoken_languages       2635 non-null   object \n",
      " 19  status                 2635 non-null   object \n",
      " 20  tagline                1147 non-null   object \n",
      " 21  title                  2635 non-null   object \n",
      " 22  video                  2635 non-null   float64\n",
      " 23  vote_average           2635 non-null   float64\n",
      " 24  vote_count             2635 non-null   float64\n",
      " 25  certification          870 non-null    object \n",
      "dtypes: float64(9), object(17)\n",
      "memory usage: 556.2+ KB\n"
     ]
    }
   ],
   "source": [
    "released_df.info()"
   ]
  },
  {
   "cell_type": "code",
   "execution_count": 41,
   "id": "0fb49af5",
   "metadata": {},
   "outputs": [],
   "source": [
    "released_df['release_date'] = pd.to_datetime(released_df['release_date'])"
   ]
  },
  {
   "cell_type": "code",
   "execution_count": 42,
   "id": "493ad1bc",
   "metadata": {},
   "outputs": [
    {
     "name": "stdout",
     "output_type": "stream",
     "text": [
      "<class 'pandas.core.frame.DataFrame'>\n",
      "Int64Index: 2637 entries, 0 to 1288\n",
      "Data columns (total 27 columns):\n",
      " #   Column                 Non-Null Count  Dtype         \n",
      "---  ------                 --------------  -----         \n",
      " 0   imdb_id                2637 non-null   object        \n",
      " 1   adult                  2635 non-null   float64       \n",
      " 2   backdrop_path          1506 non-null   object        \n",
      " 3   belongs_to_collection  217 non-null    object        \n",
      " 4   budget                 2635 non-null   float64       \n",
      " 5   genres                 2635 non-null   object        \n",
      " 6   homepage               212 non-null    object        \n",
      " 7   id                     2635 non-null   float64       \n",
      " 8   original_language      2635 non-null   object        \n",
      " 9   original_title         2635 non-null   object        \n",
      " 10  overview               2582 non-null   object        \n",
      " 11  popularity             2635 non-null   float64       \n",
      " 12  poster_path            2398 non-null   object        \n",
      " 13  production_companies   2635 non-null   object        \n",
      " 14  production_countries   2635 non-null   object        \n",
      " 15  release_date           2612 non-null   datetime64[ns]\n",
      " 16  revenue                2635 non-null   float64       \n",
      " 17  runtime                2635 non-null   float64       \n",
      " 18  spoken_languages       2635 non-null   object        \n",
      " 19  status                 2635 non-null   object        \n",
      " 20  tagline                1147 non-null   object        \n",
      " 21  title                  2635 non-null   object        \n",
      " 22  video                  2635 non-null   float64       \n",
      " 23  vote_average           2635 non-null   float64       \n",
      " 24  vote_count             2635 non-null   float64       \n",
      " 25  certification          870 non-null    object        \n",
      " 26  year                   2612 non-null   float64       \n",
      "dtypes: datetime64[ns](1), float64(10), object(16)\n",
      "memory usage: 576.8+ KB\n"
     ]
    }
   ],
   "source": [
    "released_df['year'] = released_df['release_date'].dt.year\n",
    "released_df.info()"
   ]
  },
  {
   "cell_type": "markdown",
   "id": "bdc8ced1",
   "metadata": {},
   "source": [
    "### Hypothesis defined"
   ]
  },
  {
   "cell_type": "markdown",
   "id": "e510a08f",
   "metadata": {},
   "source": [
    "- $H_0$ (Null Hypothesis): There is no significant difference between revenue and the year a movie was released.\n",
    "- $H_A$ (Alternative Hypothesis):  There is a significant difference between revenue and the year a movie was released"
   ]
  },
  {
   "cell_type": "markdown",
   "id": "2effd50b",
   "metadata": {},
   "source": [
    "###  Determine the correct test to perform.\n",
    "- Type of Data? numeric\n",
    "- How many groups/samples? 2 groups\n",
    "- Therefore, which test is appropriate? 2 sample t-test"
   ]
  },
  {
   "cell_type": "code",
   "execution_count": 43,
   "id": "55c02424",
   "metadata": {},
   "outputs": [],
   "source": [
    "released_df['year_2001'] = released_df['year'] == 2001"
   ]
  },
  {
   "cell_type": "code",
   "execution_count": 44,
   "id": "a3af8d8f",
   "metadata": {},
   "outputs": [],
   "source": [
    "released_df = released_df.dropna(subset=['year','revenue'])"
   ]
  },
  {
   "cell_type": "code",
   "execution_count": 45,
   "id": "f452d3bb",
   "metadata": {},
   "outputs": [
    {
     "data": {
      "text/plain": [
       "False    1381\n",
       "True     1231\n",
       "Name: year_2001, dtype: int64"
      ]
     },
     "execution_count": 45,
     "metadata": {},
     "output_type": "execute_result"
    }
   ],
   "source": [
    "released_df['year_2001'].value_counts()"
   ]
  },
  {
   "cell_type": "code",
   "execution_count": 46,
   "id": "497040eb",
   "metadata": {},
   "outputs": [],
   "source": [
    "## save list of columns needed for each group\n",
    "needed_cols = ['year_2001', 'revenue']"
   ]
  },
  {
   "cell_type": "code",
   "execution_count": 47,
   "id": "f1e3bf50",
   "metadata": {},
   "outputs": [
    {
     "data": {
      "text/html": [
       "<div>\n",
       "<style scoped>\n",
       "    .dataframe tbody tr th:only-of-type {\n",
       "        vertical-align: middle;\n",
       "    }\n",
       "\n",
       "    .dataframe tbody tr th {\n",
       "        vertical-align: top;\n",
       "    }\n",
       "\n",
       "    .dataframe thead th {\n",
       "        text-align: right;\n",
       "    }\n",
       "</style>\n",
       "<table border=\"1\" class=\"dataframe\">\n",
       "  <thead>\n",
       "    <tr style=\"text-align: right;\">\n",
       "      <th></th>\n",
       "      <th>year_2001</th>\n",
       "      <th>revenue</th>\n",
       "    </tr>\n",
       "  </thead>\n",
       "  <tbody>\n",
       "    <tr>\n",
       "      <th>1</th>\n",
       "      <td>True</td>\n",
       "      <td>76019048.0</td>\n",
       "    </tr>\n",
       "    <tr>\n",
       "      <th>2</th>\n",
       "      <td>True</td>\n",
       "      <td>0.0</td>\n",
       "    </tr>\n",
       "    <tr>\n",
       "      <th>4</th>\n",
       "      <td>True</td>\n",
       "      <td>5271666.0</td>\n",
       "    </tr>\n",
       "    <tr>\n",
       "      <th>5</th>\n",
       "      <td>True</td>\n",
       "      <td>0.0</td>\n",
       "    </tr>\n",
       "    <tr>\n",
       "      <th>6</th>\n",
       "      <td>True</td>\n",
       "      <td>6297.0</td>\n",
       "    </tr>\n",
       "    <tr>\n",
       "      <th>...</th>\n",
       "      <td>...</td>\n",
       "      <td>...</td>\n",
       "    </tr>\n",
       "    <tr>\n",
       "      <th>971</th>\n",
       "      <td>True</td>\n",
       "      <td>0.0</td>\n",
       "    </tr>\n",
       "    <tr>\n",
       "      <th>1054</th>\n",
       "      <td>True</td>\n",
       "      <td>0.0</td>\n",
       "    </tr>\n",
       "    <tr>\n",
       "      <th>1235</th>\n",
       "      <td>True</td>\n",
       "      <td>0.0</td>\n",
       "    </tr>\n",
       "    <tr>\n",
       "      <th>1241</th>\n",
       "      <td>True</td>\n",
       "      <td>0.0</td>\n",
       "    </tr>\n",
       "    <tr>\n",
       "      <th>1280</th>\n",
       "      <td>True</td>\n",
       "      <td>0.0</td>\n",
       "    </tr>\n",
       "  </tbody>\n",
       "</table>\n",
       "<p>1231 rows × 2 columns</p>\n",
       "</div>"
      ],
      "text/plain": [
       "      year_2001     revenue\n",
       "1          True  76019048.0\n",
       "2          True         0.0\n",
       "4          True   5271666.0\n",
       "5          True         0.0\n",
       "6          True      6297.0\n",
       "...         ...         ...\n",
       "971        True         0.0\n",
       "1054       True         0.0\n",
       "1235       True         0.0\n",
       "1241       True         0.0\n",
       "1280       True         0.0\n",
       "\n",
       "[1231 rows x 2 columns]"
      ]
     },
     "execution_count": 47,
     "metadata": {},
     "output_type": "execute_result"
    }
   ],
   "source": [
    "## save year_2001 in separate variable\n",
    "year_2001_df = released_df.loc[released_df['year_2001']==True, needed_cols]\n",
    "year_2001_df"
   ]
  },
  {
   "cell_type": "code",
   "execution_count": 48,
   "id": "e67e6ae7",
   "metadata": {},
   "outputs": [
    {
     "data": {
      "text/html": [
       "<div>\n",
       "<style scoped>\n",
       "    .dataframe tbody tr th:only-of-type {\n",
       "        vertical-align: middle;\n",
       "    }\n",
       "\n",
       "    .dataframe tbody tr th {\n",
       "        vertical-align: top;\n",
       "    }\n",
       "\n",
       "    .dataframe thead th {\n",
       "        text-align: right;\n",
       "    }\n",
       "</style>\n",
       "<table border=\"1\" class=\"dataframe\">\n",
       "  <thead>\n",
       "    <tr style=\"text-align: right;\">\n",
       "      <th></th>\n",
       "      <th>year_2001</th>\n",
       "      <th>revenue</th>\n",
       "    </tr>\n",
       "  </thead>\n",
       "  <tbody>\n",
       "    <tr>\n",
       "      <th>3</th>\n",
       "      <td>False</td>\n",
       "      <td>0.0</td>\n",
       "    </tr>\n",
       "    <tr>\n",
       "      <th>7</th>\n",
       "      <td>False</td>\n",
       "      <td>0.0</td>\n",
       "    </tr>\n",
       "    <tr>\n",
       "      <th>17</th>\n",
       "      <td>False</td>\n",
       "      <td>0.0</td>\n",
       "    </tr>\n",
       "    <tr>\n",
       "      <th>37</th>\n",
       "      <td>False</td>\n",
       "      <td>0.0</td>\n",
       "    </tr>\n",
       "    <tr>\n",
       "      <th>41</th>\n",
       "      <td>False</td>\n",
       "      <td>0.0</td>\n",
       "    </tr>\n",
       "    <tr>\n",
       "      <th>...</th>\n",
       "      <td>...</td>\n",
       "      <td>...</td>\n",
       "    </tr>\n",
       "    <tr>\n",
       "      <th>1284</th>\n",
       "      <td>False</td>\n",
       "      <td>0.0</td>\n",
       "    </tr>\n",
       "    <tr>\n",
       "      <th>1285</th>\n",
       "      <td>False</td>\n",
       "      <td>0.0</td>\n",
       "    </tr>\n",
       "    <tr>\n",
       "      <th>1286</th>\n",
       "      <td>False</td>\n",
       "      <td>0.0</td>\n",
       "    </tr>\n",
       "    <tr>\n",
       "      <th>1287</th>\n",
       "      <td>False</td>\n",
       "      <td>0.0</td>\n",
       "    </tr>\n",
       "    <tr>\n",
       "      <th>1288</th>\n",
       "      <td>False</td>\n",
       "      <td>0.0</td>\n",
       "    </tr>\n",
       "  </tbody>\n",
       "</table>\n",
       "<p>1381 rows × 2 columns</p>\n",
       "</div>"
      ],
      "text/plain": [
       "      year_2001  revenue\n",
       "3         False      0.0\n",
       "7         False      0.0\n",
       "17        False      0.0\n",
       "37        False      0.0\n",
       "41        False      0.0\n",
       "...         ...      ...\n",
       "1284      False      0.0\n",
       "1285      False      0.0\n",
       "1286      False      0.0\n",
       "1287      False      0.0\n",
       "1288      False      0.0\n",
       "\n",
       "[1381 rows x 2 columns]"
      ]
     },
     "execution_count": 48,
     "metadata": {},
     "output_type": "execute_result"
    }
   ],
   "source": [
    "## save year_2002 in separate variable\n",
    "year_2002_df = released_df.loc[released_df['year_2001']==False, needed_cols]\n",
    "year_2002_df"
   ]
  },
  {
   "cell_type": "code",
   "execution_count": 49,
   "id": "fe56530c",
   "metadata": {},
   "outputs": [
    {
     "data": {
      "text/plain": [
       "<Axes: xlabel='year_2001', ylabel='revenue'>"
      ]
     },
     "execution_count": 49,
     "metadata": {},
     "output_type": "execute_result"
    },
    {
     "data": {
      "image/png": "[encoded data removed]",
      "text/plain": [
       "<Figure size 640x480 with 1 Axes>"
      ]
     },
     "metadata": {},
     "output_type": "display_data"
    }
   ],
   "source": [
    "sns.barplot(data=released_df, x='year_2001', y='revenue')"
   ]
  },
  {
   "cell_type": "code",
   "execution_count": 50,
   "id": "58ce5984",
   "metadata": {},
   "outputs": [
    {
     "data": {
      "text/plain": [
       "1       76019048.0\n",
       "2              0.0\n",
       "4        5271666.0\n",
       "5              0.0\n",
       "6           6297.0\n",
       "           ...    \n",
       "971            0.0\n",
       "1054           0.0\n",
       "1235           0.0\n",
       "1241           0.0\n",
       "1280           0.0\n",
       "Name: revenue, Length: 1231, dtype: float64"
      ]
     },
     "execution_count": 50,
     "metadata": {},
     "output_type": "execute_result"
    }
   ],
   "source": [
    "## Saving JUST the numeric col as final group variables\n",
    "year_2001_group = year_2001_df['revenue']\n",
    "year_2002_group = year_2002_df['revenue']\n",
    "year_2001_group"
   ]
  },
  {
   "cell_type": "markdown",
   "id": "a79a71d0",
   "metadata": {},
   "source": [
    "### Check for Outliers"
   ]
  },
  {
   "cell_type": "code",
   "execution_count": 51,
   "id": "57a5976a",
   "metadata": {},
   "outputs": [
    {
     "data": {
      "text/plain": [
       "20"
      ]
     },
     "execution_count": 51,
     "metadata": {},
     "output_type": "execute_result"
    }
   ],
   "source": [
    "## Check year_2020_group for outliers\n",
    "year_2001_outliers = np.abs(stats.zscore(year_2001_group)) > 3\n",
    "\n",
    "## how many outliers?\n",
    "year_2001_outliers.sum()"
   ]
  },
  {
   "cell_type": "code",
   "execution_count": 52,
   "id": "02c6235c",
   "metadata": {},
   "outputs": [
    {
     "data": {
      "text/plain": [
       "1       76019048.0\n",
       "2              0.0\n",
       "4        5271666.0\n",
       "5              0.0\n",
       "6           6297.0\n",
       "           ...    \n",
       "971            0.0\n",
       "1054           0.0\n",
       "1235           0.0\n",
       "1241           0.0\n",
       "1280           0.0\n",
       "Name: revenue, Length: 1211, dtype: float64"
      ]
     },
     "execution_count": 52,
     "metadata": {},
     "output_type": "execute_result"
    }
   ],
   "source": [
    "## remove outliers from year_2020_group\n",
    "year_2001_group = year_2001_group.loc[~year_2001_outliers]\n",
    "year_2001_group"
   ]
  },
  {
   "cell_type": "code",
   "execution_count": 53,
   "id": "fe9c088f",
   "metadata": {},
   "outputs": [
    {
     "data": {
      "text/plain": [
       "24"
      ]
     },
     "execution_count": 53,
     "metadata": {},
     "output_type": "execute_result"
    }
   ],
   "source": [
    "## Check year_2002group for outliers\n",
    "year_2002_outliers = np.abs(stats.zscore(year_2002_group)) > 3\n",
    "\n",
    "## how many outliers?\n",
    "year_2002_outliers.sum()"
   ]
  },
  {
   "cell_type": "code",
   "execution_count": 54,
   "id": "fd316435",
   "metadata": {},
   "outputs": [
    {
     "data": {
      "text/plain": [
       "3       0.0\n",
       "7       0.0\n",
       "17      0.0\n",
       "37      0.0\n",
       "41      0.0\n",
       "       ... \n",
       "1284    0.0\n",
       "1285    0.0\n",
       "1286    0.0\n",
       "1287    0.0\n",
       "1288    0.0\n",
       "Name: revenue, Length: 1357, dtype: float64"
      ]
     },
     "execution_count": 54,
     "metadata": {},
     "output_type": "execute_result"
    }
   ],
   "source": [
    "## remove outliers from year_2002_group\n",
    "year_2002_group = year_2002_group.loc[~year_2002_outliers]\n",
    "year_2002_group"
   ]
  },
  {
   "cell_type": "markdown",
   "id": "1d1e1a30",
   "metadata": {},
   "source": [
    "### Test for Normality"
   ]
  },
  {
   "cell_type": "code",
   "execution_count": 55,
   "id": "5b8bfca8",
   "metadata": {},
   "outputs": [
    {
     "name": "stdout",
     "output_type": "stream",
     "text": [
      "3.663993506166757e-261\n"
     ]
    },
    {
     "data": {
      "text/plain": [
       "True"
      ]
     },
     "execution_count": 55,
     "metadata": {},
     "output_type": "execute_result"
    }
   ],
   "source": [
    "result = stats.normaltest(year_2001_group)\n",
    "print(result.pvalue)\n",
    "result.pvalue < .05"
   ]
  },
  {
   "cell_type": "code",
   "execution_count": 56,
   "id": "52c207a9",
   "metadata": {},
   "outputs": [
    {
     "data": {
      "text/plain": [
       "1211"
      ]
     },
     "execution_count": 56,
     "metadata": {},
     "output_type": "execute_result"
    }
   ],
   "source": [
    "len(year_2001_group)"
   ]
  },
  {
   "cell_type": "code",
   "execution_count": 57,
   "id": "50356a67",
   "metadata": {},
   "outputs": [
    {
     "name": "stdout",
     "output_type": "stream",
     "text": [
      "3.4376578457507044e-303\n"
     ]
    },
    {
     "data": {
      "text/plain": [
       "True"
      ]
     },
     "execution_count": 57,
     "metadata": {},
     "output_type": "execute_result"
    }
   ],
   "source": [
    "result = stats.normaltest(year_2002_group)\n",
    "print(result.pvalue)\n",
    "result.pvalue < .05"
   ]
  },
  {
   "cell_type": "code",
   "execution_count": 58,
   "id": "317b026a",
   "metadata": {},
   "outputs": [
    {
     "data": {
      "text/plain": [
       "1357"
      ]
     },
     "execution_count": 58,
     "metadata": {},
     "output_type": "execute_result"
    }
   ],
   "source": [
    "len(year_2002_group)"
   ]
  },
  {
   "cell_type": "markdown",
   "id": "1b2931de",
   "metadata": {},
   "source": [
    "- We reject the null hypothesis and support that there is a statistical difference between our distribution and a normal distribution.\n",
    "- Since both groups have n > 15, we can safely ignore the assumption of normality."
   ]
  },
  {
   "cell_type": "markdown",
   "id": "27ec77bf",
   "metadata": {},
   "source": [
    "### Check for Equal Variance"
   ]
  },
  {
   "cell_type": "code",
   "execution_count": 59,
   "id": "f439a465",
   "metadata": {},
   "outputs": [
    {
     "name": "stdout",
     "output_type": "stream",
     "text": [
      "LeveneResult(statistic=0.27663486987734787, pvalue=0.5989608242560784)\n",
      "False\n"
     ]
    }
   ],
   "source": [
    "result = stats.levene(year_2001_group, year_2002_group)\n",
    "print(result)\n",
    "print(result.pvalue<.05)"
   ]
  },
  {
   "cell_type": "code",
   "execution_count": 60,
   "id": "d09b1f49",
   "metadata": {},
   "outputs": [
    {
     "name": "stdout",
     "output_type": "stream",
     "text": [
      "the groups DO have equal variance.\n"
     ]
    }
   ],
   "source": [
    "## Use an if-else to help interpret the p-value\n",
    "if result.pvalue < 0.5:\n",
    "    print(f'The groups do NOT have equal variance.')\n",
    "else:\n",
    "    print(f'the groups DO have equal variance.')"
   ]
  },
  {
   "cell_type": "markdown",
   "id": "1e58cb28",
   "metadata": {},
   "source": [
    "- According to the documentation, the null hypothesis for the test is that both groups have equal variance. Since our pvalue is less than .05, we reject the null hypothesis.\n",
    "- We will run a Welch's t-test instead by adding equal_var=False to stats.ttest_ind."
   ]
  },
  {
   "cell_type": "markdown",
   "id": "da485f99",
   "metadata": {},
   "source": [
    "### Perform and Evaluate t-test"
   ]
  },
  {
   "cell_type": "code",
   "execution_count": 61,
   "id": "21720146",
   "metadata": {},
   "outputs": [
    {
     "name": "stdout",
     "output_type": "stream",
     "text": [
      "Ttest_indResult(statistic=0.5241401658997609, pvalue=0.6002277029771868)\n"
     ]
    },
    {
     "data": {
      "text/plain": [
       "False"
      ]
     },
     "execution_count": 61,
     "metadata": {},
     "output_type": "execute_result"
    }
   ],
   "source": [
    "result = stats.ttest_ind(year_2001_group, year_2002_group, equal_var=False)\n",
    "print(result)\n",
    "result.pvalue < .05"
   ]
  },
  {
   "cell_type": "markdown",
   "id": "fa8bcce2",
   "metadata": {},
   "source": [
    "- Our Welch's T-Test return a p-value < .05 we reject the null hypothesis and support the alternative hypothesis that there is a significant difference in revenue for movies released in 2020 vs movies released in 2018.\n",
    "- In order to know if they are sold significantly MORE or LESS, we look at the actual means of our final groups"
   ]
  },
  {
   "cell_type": "code",
   "execution_count": 62,
   "id": "a580ef82",
   "metadata": {},
   "outputs": [
    {
     "name": "stdout",
     "output_type": "stream",
     "text": [
      "The average revenue for year_2020_group was  6112637.12\n",
      "There average revenue for year_2018_group was  5649150.77\n"
     ]
    }
   ],
   "source": [
    "print(f'The average revenue for year_2020_group was {year_2001_group.mean(): .2f}')\n",
    "print(f'There average revenue for year_2018_group was {year_2002_group.mean(): .2f}')"
   ]
  },
  {
   "cell_type": "code",
   "execution_count": 63,
   "id": "3eb999c3",
   "metadata": {},
   "outputs": [
    {
     "data": {
      "text/html": [
       "<div>\n",
       "<style scoped>\n",
       "    .dataframe tbody tr th:only-of-type {\n",
       "        vertical-align: middle;\n",
       "    }\n",
       "\n",
       "    .dataframe tbody tr th {\n",
       "        vertical-align: top;\n",
       "    }\n",
       "\n",
       "    .dataframe thead th {\n",
       "        text-align: right;\n",
       "    }\n",
       "</style>\n",
       "<table border=\"1\" class=\"dataframe\">\n",
       "  <thead>\n",
       "    <tr style=\"text-align: right;\">\n",
       "      <th></th>\n",
       "      <th>year_2001</th>\n",
       "      <th>revenue</th>\n",
       "    </tr>\n",
       "  </thead>\n",
       "  <tbody>\n",
       "    <tr>\n",
       "      <th>1</th>\n",
       "      <td>True</td>\n",
       "      <td>76019048.0</td>\n",
       "    </tr>\n",
       "    <tr>\n",
       "      <th>2</th>\n",
       "      <td>True</td>\n",
       "      <td>0.0</td>\n",
       "    </tr>\n",
       "    <tr>\n",
       "      <th>4</th>\n",
       "      <td>True</td>\n",
       "      <td>5271666.0</td>\n",
       "    </tr>\n",
       "    <tr>\n",
       "      <th>5</th>\n",
       "      <td>True</td>\n",
       "      <td>0.0</td>\n",
       "    </tr>\n",
       "    <tr>\n",
       "      <th>6</th>\n",
       "      <td>True</td>\n",
       "      <td>6297.0</td>\n",
       "    </tr>\n",
       "    <tr>\n",
       "      <th>...</th>\n",
       "      <td>...</td>\n",
       "      <td>...</td>\n",
       "    </tr>\n",
       "    <tr>\n",
       "      <th>1284</th>\n",
       "      <td>False</td>\n",
       "      <td>0.0</td>\n",
       "    </tr>\n",
       "    <tr>\n",
       "      <th>1285</th>\n",
       "      <td>False</td>\n",
       "      <td>0.0</td>\n",
       "    </tr>\n",
       "    <tr>\n",
       "      <th>1286</th>\n",
       "      <td>False</td>\n",
       "      <td>0.0</td>\n",
       "    </tr>\n",
       "    <tr>\n",
       "      <th>1287</th>\n",
       "      <td>False</td>\n",
       "      <td>0.0</td>\n",
       "    </tr>\n",
       "    <tr>\n",
       "      <th>1288</th>\n",
       "      <td>False</td>\n",
       "      <td>0.0</td>\n",
       "    </tr>\n",
       "  </tbody>\n",
       "</table>\n",
       "<p>2568 rows × 2 columns</p>\n",
       "</div>"
      ],
      "text/plain": [
       "      year_2001     revenue\n",
       "1          True  76019048.0\n",
       "2          True         0.0\n",
       "4          True   5271666.0\n",
       "5          True         0.0\n",
       "6          True      6297.0\n",
       "...         ...         ...\n",
       "1284      False         0.0\n",
       "1285      False         0.0\n",
       "1286      False         0.0\n",
       "1287      False         0.0\n",
       "1288      False         0.0\n",
       "\n",
       "[2568 rows x 2 columns]"
      ]
     },
     "execution_count": 63,
     "metadata": {},
     "output_type": "execute_result"
    }
   ],
   "source": [
    "# create dataframe without outliers\n",
    "plot_df = pd.concat([year_2001_df.loc[~year_2001_outliers],\n",
    "                    year_2002_df.loc[~year_2002_outliers]], axis=0)\n",
    "plot_df"
   ]
  },
  {
   "cell_type": "code",
   "execution_count": 64,
   "id": "1191915f",
   "metadata": {},
   "outputs": [
    {
     "data": {
      "text/plain": [
       "<Axes: xlabel='year_2001', ylabel='revenue'>"
      ]
     },
     "execution_count": 64,
     "metadata": {},
     "output_type": "execute_result"
    },
    {
     "data": {
      "image/png": "[encoded data removed]",
      "text/plain": [
       "<Figure size 640x480 with 1 Axes>"
      ]
     },
     "metadata": {},
     "output_type": "display_data"
    }
   ],
   "source": [
    "# vizualize means without outliers\n",
    "sns.barplot(data=plot_df, x='year_2001', y='revenue')"
   ]
  },
  {
   "cell_type": "markdown",
   "id": "9785be93",
   "metadata": {},
   "source": [
    "- There is a higher mean revenue for movies released in 2001 vs movies released in 2002."
   ]
  },
  {
   "cell_type": "code",
   "execution_count": null,
   "id": "00fdeea9",
   "metadata": {},
   "outputs": [],
   "source": []
  }
 ],
 "metadata": {
  "kernelspec": {
   "display_name": "Python 3 (ipykernel)",
   "language": "python",
   "name": "python3"
  },
  "language_info": {
   "codemirror_mode": {
    "name": "ipython",
    "version": 3
   },
   "file_extension": ".py",
   "mimetype": "text/x-python",
   "name": "python",
   "nbconvert_exporter": "python",
   "pygments_lexer": "ipython3",
   "version": "3.10.10"
  },
  "toc": {
   "base_numbering": 1,
   "nav_menu": {},
   "number_sections": true,
   "sideBar": true,
   "skip_h1_title": false,
   "title_cell": "Table of Contents",
   "title_sidebar": "Contents",
   "toc_cell": false,
   "toc_position": {},
   "toc_section_display": true,
   "toc_window_display": true
  },
  "widgets": {
   "application/vnd.jupyter.widget-state+json": {
    "state": {},
    "version_major": 2,
    "version_minor": 0
   }
  }
 },
 "nbformat": 4,
 "nbformat_minor": 5
}
