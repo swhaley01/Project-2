{
 "cells": [
  {
   "cell_type": "code",
   "execution_count": 1,
   "id": "96727d3c",
   "metadata": {},
   "outputs": [],
   "source": [
    "import pandas as pd\n",
    "import matplotlib.pyplot as plt\n",
    "import seaborn as sns\n",
    "import numpy as np\n",
    "import os"
   ]
  },
  {
   "cell_type": "code",
   "execution_count": 2,
   "id": "22ce2c25",
   "metadata": {},
   "outputs": [
    {
     "data": {
      "text/plain": [
       "['tmdb_api_results_2010.json',\n",
       " 'title-ratings.csv',\n",
       " 'movies erd.png',\n",
       " 'title.basics.tsv.gz',\n",
       " 'tmdb_api_results_2001.json',\n",
       " 'final_tmdb_data_2010.csv.gz',\n",
       " 'final_tmdb_data_2002.csv.gz',\n",
       " 'movies.sql',\n",
       " 'title.ratings.tsv.gz',\n",
       " 'tmdb_api_results_2002.json',\n",
       " 'title-akas-us-only.csv',\n",
       " 'movies erd.mwb',\n",
       " 'final_tmdb_data_2001.csv.gz',\n",
       " '.ipynb_checkpoints',\n",
       " 'title-basics.csv']"
      ]
     },
     "execution_count": 2,
     "metadata": {},
     "output_type": "execute_result"
    }
   ],
   "source": [
    "os.listdir(\"Data/\")"
   ]
  },
  {
   "cell_type": "code",
   "execution_count": 3,
   "id": "8cb22c2c",
   "metadata": {},
   "outputs": [],
   "source": [
    "df_2001 = pd.read_csv('Data/final_tmdb_data_2001.csv.gz')\n",
    "\n",
    "df_2002 = pd.read_csv('Data/final_tmdb_data_2002.csv.gz')"
   ]
  },
  {
   "cell_type": "code",
   "execution_count": 4,
   "id": "8d6283a8",
   "metadata": {},
   "outputs": [
    {
     "data": {
      "text/html": [
       "<div>\n",
       "<style scoped>\n",
       "    .dataframe tbody tr th:only-of-type {\n",
       "        vertical-align: middle;\n",
       "    }\n",
       "\n",
       "    .dataframe tbody tr th {\n",
       "        vertical-align: top;\n",
       "    }\n",
       "\n",
       "    .dataframe thead th {\n",
       "        text-align: right;\n",
       "    }\n",
       "</style>\n",
       "<table border=\"1\" class=\"dataframe\">\n",
       "  <thead>\n",
       "    <tr style=\"text-align: right;\">\n",
       "      <th></th>\n",
       "      <th>imdb_id</th>\n",
       "      <th>adult</th>\n",
       "      <th>backdrop_path</th>\n",
       "      <th>belongs_to_collection</th>\n",
       "      <th>budget</th>\n",
       "      <th>genres</th>\n",
       "      <th>homepage</th>\n",
       "      <th>id</th>\n",
       "      <th>original_language</th>\n",
       "      <th>original_title</th>\n",
       "      <th>...</th>\n",
       "      <th>revenue</th>\n",
       "      <th>runtime</th>\n",
       "      <th>spoken_languages</th>\n",
       "      <th>status</th>\n",
       "      <th>tagline</th>\n",
       "      <th>title</th>\n",
       "      <th>video</th>\n",
       "      <th>vote_average</th>\n",
       "      <th>vote_count</th>\n",
       "      <th>certification</th>\n",
       "    </tr>\n",
       "  </thead>\n",
       "  <tbody>\n",
       "    <tr>\n",
       "      <th>0</th>\n",
       "      <td>0</td>\n",
       "      <td>NaN</td>\n",
       "      <td>NaN</td>\n",
       "      <td>NaN</td>\n",
       "      <td>NaN</td>\n",
       "      <td>NaN</td>\n",
       "      <td>NaN</td>\n",
       "      <td>NaN</td>\n",
       "      <td>NaN</td>\n",
       "      <td>NaN</td>\n",
       "      <td>...</td>\n",
       "      <td>NaN</td>\n",
       "      <td>NaN</td>\n",
       "      <td>NaN</td>\n",
       "      <td>NaN</td>\n",
       "      <td>NaN</td>\n",
       "      <td>NaN</td>\n",
       "      <td>NaN</td>\n",
       "      <td>NaN</td>\n",
       "      <td>NaN</td>\n",
       "      <td>NaN</td>\n",
       "    </tr>\n",
       "    <tr>\n",
       "      <th>1</th>\n",
       "      <td>tt0035423</td>\n",
       "      <td>0.0</td>\n",
       "      <td>/hfeiSfWYujh6MKhtGTXyK3DD4nN.jpg</td>\n",
       "      <td>NaN</td>\n",
       "      <td>48000000.0</td>\n",
       "      <td>[{'id': 10749, 'name': 'Romance'}, {'id': 14, ...</td>\n",
       "      <td>NaN</td>\n",
       "      <td>11232.0</td>\n",
       "      <td>en</td>\n",
       "      <td>Kate &amp; Leopold</td>\n",
       "      <td>...</td>\n",
       "      <td>76019048.0</td>\n",
       "      <td>118.0</td>\n",
       "      <td>[{'english_name': 'French', 'iso_639_1': 'fr',...</td>\n",
       "      <td>Released</td>\n",
       "      <td>If they lived in the same century, they'd be p...</td>\n",
       "      <td>Kate &amp; Leopold</td>\n",
       "      <td>0.0</td>\n",
       "      <td>6.331</td>\n",
       "      <td>1226.0</td>\n",
       "      <td>PG-13</td>\n",
       "    </tr>\n",
       "    <tr>\n",
       "      <th>2</th>\n",
       "      <td>tt0114447</td>\n",
       "      <td>0.0</td>\n",
       "      <td>NaN</td>\n",
       "      <td>NaN</td>\n",
       "      <td>0.0</td>\n",
       "      <td>[{'id': 53, 'name': 'Thriller'}, {'id': 28, 'n...</td>\n",
       "      <td>NaN</td>\n",
       "      <td>151007.0</td>\n",
       "      <td>en</td>\n",
       "      <td>The Silent Force</td>\n",
       "      <td>...</td>\n",
       "      <td>0.0</td>\n",
       "      <td>90.0</td>\n",
       "      <td>[{'english_name': 'English', 'iso_639_1': 'en'...</td>\n",
       "      <td>Released</td>\n",
       "      <td>They left him for dead... They should have fin...</td>\n",
       "      <td>The Silent Force</td>\n",
       "      <td>0.0</td>\n",
       "      <td>5.000</td>\n",
       "      <td>3.0</td>\n",
       "      <td>NaN</td>\n",
       "    </tr>\n",
       "    <tr>\n",
       "      <th>3</th>\n",
       "      <td>tt0116916</td>\n",
       "      <td>0.0</td>\n",
       "      <td>/rFpHBidSlhjflmnLu7BZilyKeQR.jpg</td>\n",
       "      <td>NaN</td>\n",
       "      <td>0.0</td>\n",
       "      <td>[{'id': 28, 'name': 'Action'}, {'id': 12, 'nam...</td>\n",
       "      <td>NaN</td>\n",
       "      <td>73549.0</td>\n",
       "      <td>en</td>\n",
       "      <td>The Dark Mist</td>\n",
       "      <td>...</td>\n",
       "      <td>0.0</td>\n",
       "      <td>101.0</td>\n",
       "      <td>[{'english_name': 'English', 'iso_639_1': 'en'...</td>\n",
       "      <td>Released</td>\n",
       "      <td>NaN</td>\n",
       "      <td>The Dark Mist</td>\n",
       "      <td>0.0</td>\n",
       "      <td>3.500</td>\n",
       "      <td>2.0</td>\n",
       "      <td>PG</td>\n",
       "    </tr>\n",
       "    <tr>\n",
       "      <th>4</th>\n",
       "      <td>tt0118589</td>\n",
       "      <td>0.0</td>\n",
       "      <td>/9NZAirJahVilTiDNCHLFcdkwkiy.jpg</td>\n",
       "      <td>NaN</td>\n",
       "      <td>22000000.0</td>\n",
       "      <td>[{'id': 18, 'name': 'Drama'}, {'id': 10402, 'n...</td>\n",
       "      <td>NaN</td>\n",
       "      <td>10696.0</td>\n",
       "      <td>en</td>\n",
       "      <td>Glitter</td>\n",
       "      <td>...</td>\n",
       "      <td>5271666.0</td>\n",
       "      <td>104.0</td>\n",
       "      <td>[{'english_name': 'English', 'iso_639_1': 'en'...</td>\n",
       "      <td>Released</td>\n",
       "      <td>In music she found her dream, her love, herself.</td>\n",
       "      <td>Glitter</td>\n",
       "      <td>0.0</td>\n",
       "      <td>4.442</td>\n",
       "      <td>130.0</td>\n",
       "      <td>PG-13</td>\n",
       "    </tr>\n",
       "    <tr>\n",
       "      <th>...</th>\n",
       "      <td>...</td>\n",
       "      <td>...</td>\n",
       "      <td>...</td>\n",
       "      <td>...</td>\n",
       "      <td>...</td>\n",
       "      <td>...</td>\n",
       "      <td>...</td>\n",
       "      <td>...</td>\n",
       "      <td>...</td>\n",
       "      <td>...</td>\n",
       "      <td>...</td>\n",
       "      <td>...</td>\n",
       "      <td>...</td>\n",
       "      <td>...</td>\n",
       "      <td>...</td>\n",
       "      <td>...</td>\n",
       "      <td>...</td>\n",
       "      <td>...</td>\n",
       "      <td>...</td>\n",
       "      <td>...</td>\n",
       "      <td>...</td>\n",
       "    </tr>\n",
       "    <tr>\n",
       "      <th>1284</th>\n",
       "      <td>tt6449044</td>\n",
       "      <td>0.0</td>\n",
       "      <td>/a9pkw8stijESGx1flSGPqcXLkHu.jpg</td>\n",
       "      <td>{'id': 957260, 'name': 'The Conman Collection'...</td>\n",
       "      <td>0.0</td>\n",
       "      <td>[{'id': 35, 'name': 'Comedy'}]</td>\n",
       "      <td>NaN</td>\n",
       "      <td>314105.0</td>\n",
       "      <td>cn</td>\n",
       "      <td>賭俠2002</td>\n",
       "      <td>...</td>\n",
       "      <td>0.0</td>\n",
       "      <td>97.0</td>\n",
       "      <td>[{'english_name': 'Cantonese', 'iso_639_1': 'c...</td>\n",
       "      <td>Released</td>\n",
       "      <td>NaN</td>\n",
       "      <td>The Conman 2002</td>\n",
       "      <td>0.0</td>\n",
       "      <td>4.300</td>\n",
       "      <td>3.0</td>\n",
       "      <td>NaN</td>\n",
       "    </tr>\n",
       "    <tr>\n",
       "      <th>1285</th>\n",
       "      <td>tt6694126</td>\n",
       "      <td>0.0</td>\n",
       "      <td>/sXjVpTZyDvwzPVZve3AmyCUBeHk.jpg</td>\n",
       "      <td>NaN</td>\n",
       "      <td>0.0</td>\n",
       "      <td>[{'id': 35, 'name': 'Comedy'}, {'id': 18, 'nam...</td>\n",
       "      <td>NaN</td>\n",
       "      <td>819174.0</td>\n",
       "      <td>fa</td>\n",
       "      <td>عروس خوش‌قدم</td>\n",
       "      <td>...</td>\n",
       "      <td>0.0</td>\n",
       "      <td>101.0</td>\n",
       "      <td>[{'english_name': 'Persian', 'iso_639_1': 'fa'...</td>\n",
       "      <td>Released</td>\n",
       "      <td>NaN</td>\n",
       "      <td>The Lucky Bride</td>\n",
       "      <td>0.0</td>\n",
       "      <td>8.000</td>\n",
       "      <td>1.0</td>\n",
       "      <td>NaN</td>\n",
       "    </tr>\n",
       "    <tr>\n",
       "      <th>1286</th>\n",
       "      <td>tt8302928</td>\n",
       "      <td>0.0</td>\n",
       "      <td>NaN</td>\n",
       "      <td>NaN</td>\n",
       "      <td>0.0</td>\n",
       "      <td>[{'id': 16, 'name': 'Animation'}, {'id': 12, '...</td>\n",
       "      <td>NaN</td>\n",
       "      <td>866533.0</td>\n",
       "      <td>el</td>\n",
       "      <td>Movie Toons: Treasure Island</td>\n",
       "      <td>...</td>\n",
       "      <td>0.0</td>\n",
       "      <td>0.0</td>\n",
       "      <td>[]</td>\n",
       "      <td>Released</td>\n",
       "      <td>NaN</td>\n",
       "      <td>Movie Toons: Treasure Island</td>\n",
       "      <td>0.0</td>\n",
       "      <td>0.000</td>\n",
       "      <td>0.0</td>\n",
       "      <td>NaN</td>\n",
       "    </tr>\n",
       "    <tr>\n",
       "      <th>1287</th>\n",
       "      <td>tt8474326</td>\n",
       "      <td>0.0</td>\n",
       "      <td>NaN</td>\n",
       "      <td>NaN</td>\n",
       "      <td>0.0</td>\n",
       "      <td>[]</td>\n",
       "      <td>NaN</td>\n",
       "      <td>292027.0</td>\n",
       "      <td>en</td>\n",
       "      <td>Skin Eating Jungle Vampires</td>\n",
       "      <td>...</td>\n",
       "      <td>0.0</td>\n",
       "      <td>0.0</td>\n",
       "      <td>[]</td>\n",
       "      <td>Released</td>\n",
       "      <td>NaN</td>\n",
       "      <td>Skin Eating Jungle Vampires</td>\n",
       "      <td>0.0</td>\n",
       "      <td>0.000</td>\n",
       "      <td>0.0</td>\n",
       "      <td>NaN</td>\n",
       "    </tr>\n",
       "    <tr>\n",
       "      <th>1288</th>\n",
       "      <td>tt8825252</td>\n",
       "      <td>0.0</td>\n",
       "      <td>NaN</td>\n",
       "      <td>NaN</td>\n",
       "      <td>0.0</td>\n",
       "      <td>[{'id': 14, 'name': 'Fantasy'}]</td>\n",
       "      <td>NaN</td>\n",
       "      <td>989195.0</td>\n",
       "      <td>en</td>\n",
       "      <td>Circle of Fire: The Dark Lord Kylnor</td>\n",
       "      <td>...</td>\n",
       "      <td>0.0</td>\n",
       "      <td>45.0</td>\n",
       "      <td>[]</td>\n",
       "      <td>Released</td>\n",
       "      <td>NaN</td>\n",
       "      <td>Circle of Fire: The Dark Lord Kylnor</td>\n",
       "      <td>0.0</td>\n",
       "      <td>0.000</td>\n",
       "      <td>0.0</td>\n",
       "      <td>NaN</td>\n",
       "    </tr>\n",
       "  </tbody>\n",
       "</table>\n",
       "<p>2637 rows × 26 columns</p>\n",
       "</div>"
      ],
      "text/plain": [
       "        imdb_id  adult                     backdrop_path  \\\n",
       "0             0    NaN                               NaN   \n",
       "1     tt0035423    0.0  /hfeiSfWYujh6MKhtGTXyK3DD4nN.jpg   \n",
       "2     tt0114447    0.0                               NaN   \n",
       "3     tt0116916    0.0  /rFpHBidSlhjflmnLu7BZilyKeQR.jpg   \n",
       "4     tt0118589    0.0  /9NZAirJahVilTiDNCHLFcdkwkiy.jpg   \n",
       "...         ...    ...                               ...   \n",
       "1284  tt6449044    0.0  /a9pkw8stijESGx1flSGPqcXLkHu.jpg   \n",
       "1285  tt6694126    0.0  /sXjVpTZyDvwzPVZve3AmyCUBeHk.jpg   \n",
       "1286  tt8302928    0.0                               NaN   \n",
       "1287  tt8474326    0.0                               NaN   \n",
       "1288  tt8825252    0.0                               NaN   \n",
       "\n",
       "                                  belongs_to_collection      budget  \\\n",
       "0                                                   NaN         NaN   \n",
       "1                                                   NaN  48000000.0   \n",
       "2                                                   NaN         0.0   \n",
       "3                                                   NaN         0.0   \n",
       "4                                                   NaN  22000000.0   \n",
       "...                                                 ...         ...   \n",
       "1284  {'id': 957260, 'name': 'The Conman Collection'...         0.0   \n",
       "1285                                                NaN         0.0   \n",
       "1286                                                NaN         0.0   \n",
       "1287                                                NaN         0.0   \n",
       "1288                                                NaN         0.0   \n",
       "\n",
       "                                                 genres homepage        id  \\\n",
       "0                                                   NaN      NaN       NaN   \n",
       "1     [{'id': 10749, 'name': 'Romance'}, {'id': 14, ...      NaN   11232.0   \n",
       "2     [{'id': 53, 'name': 'Thriller'}, {'id': 28, 'n...      NaN  151007.0   \n",
       "3     [{'id': 28, 'name': 'Action'}, {'id': 12, 'nam...      NaN   73549.0   \n",
       "4     [{'id': 18, 'name': 'Drama'}, {'id': 10402, 'n...      NaN   10696.0   \n",
       "...                                                 ...      ...       ...   \n",
       "1284                     [{'id': 35, 'name': 'Comedy'}]      NaN  314105.0   \n",
       "1285  [{'id': 35, 'name': 'Comedy'}, {'id': 18, 'nam...      NaN  819174.0   \n",
       "1286  [{'id': 16, 'name': 'Animation'}, {'id': 12, '...      NaN  866533.0   \n",
       "1287                                                 []      NaN  292027.0   \n",
       "1288                    [{'id': 14, 'name': 'Fantasy'}]      NaN  989195.0   \n",
       "\n",
       "     original_language                        original_title  ...     revenue  \\\n",
       "0                  NaN                                   NaN  ...         NaN   \n",
       "1                   en                        Kate & Leopold  ...  76019048.0   \n",
       "2                   en                      The Silent Force  ...         0.0   \n",
       "3                   en                         The Dark Mist  ...         0.0   \n",
       "4                   en                               Glitter  ...   5271666.0   \n",
       "...                ...                                   ...  ...         ...   \n",
       "1284                cn                                賭俠2002  ...         0.0   \n",
       "1285                fa                          عروس خوش‌قدم  ...         0.0   \n",
       "1286                el          Movie Toons: Treasure Island  ...         0.0   \n",
       "1287                en           Skin Eating Jungle Vampires  ...         0.0   \n",
       "1288                en  Circle of Fire: The Dark Lord Kylnor  ...         0.0   \n",
       "\n",
       "      runtime                                   spoken_languages    status  \\\n",
       "0         NaN                                                NaN       NaN   \n",
       "1       118.0  [{'english_name': 'French', 'iso_639_1': 'fr',...  Released   \n",
       "2        90.0  [{'english_name': 'English', 'iso_639_1': 'en'...  Released   \n",
       "3       101.0  [{'english_name': 'English', 'iso_639_1': 'en'...  Released   \n",
       "4       104.0  [{'english_name': 'English', 'iso_639_1': 'en'...  Released   \n",
       "...       ...                                                ...       ...   \n",
       "1284     97.0  [{'english_name': 'Cantonese', 'iso_639_1': 'c...  Released   \n",
       "1285    101.0  [{'english_name': 'Persian', 'iso_639_1': 'fa'...  Released   \n",
       "1286      0.0                                                 []  Released   \n",
       "1287      0.0                                                 []  Released   \n",
       "1288     45.0                                                 []  Released   \n",
       "\n",
       "                                                tagline  \\\n",
       "0                                                   NaN   \n",
       "1     If they lived in the same century, they'd be p...   \n",
       "2     They left him for dead... They should have fin...   \n",
       "3                                                   NaN   \n",
       "4      In music she found her dream, her love, herself.   \n",
       "...                                                 ...   \n",
       "1284                                                NaN   \n",
       "1285                                                NaN   \n",
       "1286                                                NaN   \n",
       "1287                                                NaN   \n",
       "1288                                                NaN   \n",
       "\n",
       "                                     title  video  vote_average vote_count  \\\n",
       "0                                      NaN    NaN           NaN        NaN   \n",
       "1                           Kate & Leopold    0.0         6.331     1226.0   \n",
       "2                         The Silent Force    0.0         5.000        3.0   \n",
       "3                            The Dark Mist    0.0         3.500        2.0   \n",
       "4                                  Glitter    0.0         4.442      130.0   \n",
       "...                                    ...    ...           ...        ...   \n",
       "1284                       The Conman 2002    0.0         4.300        3.0   \n",
       "1285                       The Lucky Bride    0.0         8.000        1.0   \n",
       "1286          Movie Toons: Treasure Island    0.0         0.000        0.0   \n",
       "1287           Skin Eating Jungle Vampires    0.0         0.000        0.0   \n",
       "1288  Circle of Fire: The Dark Lord Kylnor    0.0         0.000        0.0   \n",
       "\n",
       "     certification  \n",
       "0              NaN  \n",
       "1            PG-13  \n",
       "2              NaN  \n",
       "3               PG  \n",
       "4            PG-13  \n",
       "...            ...  \n",
       "1284           NaN  \n",
       "1285           NaN  \n",
       "1286           NaN  \n",
       "1287           NaN  \n",
       "1288           NaN  \n",
       "\n",
       "[2637 rows x 26 columns]"
      ]
     },
     "execution_count": 4,
     "metadata": {},
     "output_type": "execute_result"
    }
   ],
   "source": [
    "df = pd.concat([df_2001,df_2002])\n",
    "df"
   ]
  },
  {
   "cell_type": "markdown",
   "id": "af34f738",
   "metadata": {},
   "source": [
    "## How many movies had at least some valid financial information (values > 0 for budget OR revenue)?\n",
    "Please exclude any movies with 0's for budget AND revenue from the remaining visualizations."
   ]
  },
  {
   "cell_type": "code",
   "execution_count": 5,
   "id": "c536c7ec",
   "metadata": {},
   "outputs": [
    {
     "data": {
      "text/plain": [
       "False    1913\n",
       "True      724\n",
       "dtype: int64"
      ]
     },
     "execution_count": 5,
     "metadata": {},
     "output_type": "execute_result"
    }
   ],
   "source": [
    "filter_financial = (df['budget'] > 0) | (df['revenue']>0)\n",
    "filter_financial.value_counts()"
   ]
  },
  {
   "cell_type": "code",
   "execution_count": 6,
   "id": "8d405cef",
   "metadata": {},
   "outputs": [
    {
     "data": {
      "text/plain": [
       "Text(0.5, 1.0, '# of Movies with Valid Financial Data')"
      ]
     },
     "execution_count": 6,
     "metadata": {},
     "output_type": "execute_result"
    },
    {
     "data": {
      "image/png": "[encoded data removed]",
      "text/plain": [
       "<Figure size 640x480 with 1 Axes>"
      ]
     },
     "metadata": {},
     "output_type": "display_data"
    }
   ],
   "source": [
    "ax = sns.countplot(x=filter_financial)\n",
    "ax.set_title('# of Movies with Valid Financial Data')"
   ]
  },
  {
   "cell_type": "code",
   "execution_count": 7,
   "id": "30789acf",
   "metadata": {},
   "outputs": [],
   "source": [
    "plot_df = df[filter_financial].copy()"
   ]
  },
  {
   "cell_type": "markdown",
   "id": "6aff03d2",
   "metadata": {},
   "source": [
    "## How many movies are there in each of the certification categories (G/PG/PG-13/R)?"
   ]
  },
  {
   "cell_type": "code",
   "execution_count": 8,
   "id": "63580ddc",
   "metadata": {},
   "outputs": [],
   "source": [
    "## to order them (optional)\n",
    "cert_order = ['G','PG','PG-13','R','NR']#,'NC-17']"
   ]
  },
  {
   "cell_type": "code",
   "execution_count": 9,
   "id": "32f6013a",
   "metadata": {},
   "outputs": [
    {
     "data": {
      "text/plain": [
       "certification\n",
       "G         15\n",
       "NR        23\n",
       "PG        41\n",
       "PG-13    147\n",
       "R        247\n",
       "Name: certification, dtype: int64"
      ]
     },
     "execution_count": 9,
     "metadata": {},
     "output_type": "execute_result"
    }
   ],
   "source": [
    "plot_df.groupby('certification')['certification'].count()"
   ]
  },
  {
   "cell_type": "code",
   "execution_count": 10,
   "id": "d389d33d",
   "metadata": {},
   "outputs": [
    {
     "data": {
      "image/png": "[encoded data removed]",
      "text/plain": [
       "<Figure size 640x480 with 1 Axes>"
      ]
     },
     "metadata": {},
     "output_type": "display_data"
    }
   ],
   "source": [
    "sns.countplot(data=plot_df, x='certification',order=cert_order);"
   ]
  },
  {
   "cell_type": "code",
   "execution_count": 11,
   "id": "6df56150",
   "metadata": {},
   "outputs": [],
   "source": [
    "pd.set_option('display.float_format', lambda x: '%.3f' % x)"
   ]
  },
  {
   "cell_type": "markdown",
   "id": "cf8fe0ed",
   "metadata": {},
   "source": [
    "## What is the average revenue per certification category?"
   ]
  },
  {
   "cell_type": "code",
   "execution_count": 12,
   "id": "3e5c3237",
   "metadata": {},
   "outputs": [
    {
     "data": {
      "text/plain": [
       "certification\n",
       "G       109652085.200\n",
       "NR        3063780.478\n",
       "PG      158388995.439\n",
       "PG-13    98528885.102\n",
       "R        30516072.316\n",
       "Name: revenue, dtype: float64"
      ]
     },
     "execution_count": 12,
     "metadata": {},
     "output_type": "execute_result"
    }
   ],
   "source": [
    "plot_df.groupby('certification')['revenue'].mean()"
   ]
  },
  {
   "cell_type": "code",
   "execution_count": 13,
   "id": "d18fb058",
   "metadata": {},
   "outputs": [
    {
     "data": {
      "image/png": "[encoded data removed]",
      "text/plain": [
       "<Figure size 640x480 with 1 Axes>"
      ]
     },
     "metadata": {},
     "output_type": "display_data"
    }
   ],
   "source": [
    "sns.barplot(data=plot_df, x='certification',y='revenue', order=cert_order);"
   ]
  },
  {
   "cell_type": "markdown",
   "id": "10fb2c46",
   "metadata": {},
   "source": [
    "## What is the average budget per certification category?"
   ]
  },
  {
   "cell_type": "code",
   "execution_count": 14,
   "id": "bd113c8a",
   "metadata": {},
   "outputs": [
    {
     "data": {
      "text/plain": [
       "certification\n",
       "G       35066666.667\n",
       "NR       1529652.217\n",
       "PG      43285908.049\n",
       "PG-13   39035298.204\n",
       "R       19172957.591\n",
       "Name: budget, dtype: float64"
      ]
     },
     "execution_count": 14,
     "metadata": {},
     "output_type": "execute_result"
    }
   ],
   "source": [
    "plot_df.groupby('certification')['budget'].mean()"
   ]
  },
  {
   "cell_type": "code",
   "execution_count": 15,
   "id": "94b91983",
   "metadata": {},
   "outputs": [
    {
     "data": {
      "image/png": "[encoded data removed]",
      "text/plain": [
       "<Figure size 640x480 with 1 Axes>"
      ]
     },
     "metadata": {},
     "output_type": "display_data"
    }
   ],
   "source": [
    "sns.barplot(data=plot_df, x='certification',y='budget', order=cert_order);"
   ]
  }
 ],
 "metadata": {
  "kernelspec": {
   "display_name": "Python 3 (ipykernel)",
   "language": "python",
   "name": "python3"
  },
  "language_info": {
   "codemirror_mode": {
    "name": "ipython",
    "version": 3
   },
   "file_extension": ".py",
   "mimetype": "text/x-python",
   "name": "python",
   "nbconvert_exporter": "python",
   "pygments_lexer": "ipython3",
   "version": "3.10.10"
  },
  "toc": {
   "base_numbering": 1,
   "nav_menu": {},
   "number_sections": true,
   "sideBar": true,
   "skip_h1_title": false,
   "title_cell": "Table of Contents",
   "title_sidebar": "Contents",
   "toc_cell": false,
   "toc_position": {},
   "toc_section_display": true,
   "toc_window_display": false
  },
  "widgets": {
   "application/vnd.jupyter.widget-state+json": {
    "state": {},
    "version_major": 2,
    "version_minor": 0
   }
  }
 },
 "nbformat": 4,
 "nbformat_minor": 5
}
